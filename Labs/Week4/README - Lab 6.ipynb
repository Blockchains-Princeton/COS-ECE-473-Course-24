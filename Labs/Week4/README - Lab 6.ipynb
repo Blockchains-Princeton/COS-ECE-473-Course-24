{
 "cells": [
  {
   "cell_type": "markdown",
   "id": "e9cd6b7b",
   "metadata": {
    "id": "e9cd6b7b"
   },
   "source": [
    "# Objectives\n",
    "\n",
    "- Explain MEV through transactions in the wild\n"
   ]
  },
  {
   "cell_type": "markdown",
   "id": "99e47bc8",
   "metadata": {
    "id": "99e47bc8"
   },
   "source": [
    "# GUI interaction\n",
    "\n",
    "- Go to MEV explore [here](https://explore.flashbots.net/leaderboard)\n",
    "- Mostly covers arbitrage and liquidations, does not cover multi-tx MEV such as a sandwich attack\n",
    "\n",
    "The folowing are some examples of MEV transactions.\n",
    "\n",
    "## Arbitrage transaction\n",
    "Exploiting price differences to make riskless profit – is usually benign.\n",
    "\n",
    "- Search two or more exchanges with difference in asset prices\n",
    "- Trade asset between them to gain tokens in the numeraire\n",
    "- Consider an example of an arbitrage transaction [here](https://etherscan.io/tx/0xb6ae673a7d27e89c263afce8ef20966b4e5684c08671a99f1d44ba440aec8f73)\n",
    "\n",
    "## Liquidation transaction\n",
    "Like \"margin calls\" in traditional finance. Here, the miner spots lending positions that are underwater and liquidates them to earn a commission. Liquidation involves notifying the lending protocol that a the value of \"collateral\" posted by borrower has fallen. This makes the protocol take possession of the collateral and give a commission to the liquidator.\n",
    "\n",
    "An example of a liquidation is shown [here](https://etherscan.io/tx/0xd70b42daec5bb9ac6e5df3d25d309f186db50df701f667e1f20b22448ea27d41).\n",
    "\n",
    "## Sandwich transaction\n",
    "Sandwiching is the act introducing transactions before and after user swaps to earn risk-free profit. Frontrunning (insertion before) is bad for the user and malicious. Backrunning (insertion after) is benign since it does not give anyone a worse price and stabilizes market.\n",
    "\n",
    "- Frontrun a transaction to buy asset for cheap\n",
    "- Let transactions incur\n",
    "- Sell back to the original asset\n",
    "- Consider the transactions for a sandwich attack [here](https://etherscan.io/txs?block=15449712&p=6) - as described in [this article](https://medium.com/@alexanderzaidelson/dissecting-mev-arbitrage-fb8f9492cdf1)\n",
    "\n",
    "## JIT liquidity transaction\n",
    "\n",
    "- Search for high value transaction\n",
    "- Provide liquidity right before that transaction\n",
    "- Earn fees\n",
    "- Withdraw liquidity post the trade\n",
    "- Consider the transactions for a JIT liquidity transaction [here](https://etherscan.io/txs?block=15735173&p=8) - note the last blocks here are first in order.\n",
    "\n",
    "# Understanding Sandwich attacks\n",
    "\n",
    "In this section, we understand Sandwich attacks with two numerical example. For both problems, assume that we have a constant product market maker containing 100 ETH and 100 USD at the start. The miner (Bob) sees a buy transaction (from a user Alice) and decides to sandwich it for earning a profit. Ignore gas and other transaction fees.\n",
    "\n",
    "## Calculating the miner's profit - part 1\n",
    "\n",
    "Alice's transaction is to buy 10 ETH. Bob sandiwiches this in between two of his own transactions, the first one that buys 10 ETH and the second one that sells 10 ETH. What is the profit that Bob earns? (in USD, and rounded to the closest integer)\n",
    "\n",
    "\n",
    "\n",
    "## Calculating the miner's profit - part 2\n",
    "\n",
    "Consider an alternative (and more realistic) scenario. Again, Alice's transaction is to buy 10 ETH. But this time, Alice puts a limit on the price she is willing to pay. If the transaction settles for any price greater than the limit, it gets aborted. The price limit is 1.2 USD/ETH. Again, Bob wants to sandwich this in between a buy and a sell transaction of his own, but does not want the Alice's transaction to get aborted (since that will not give him any profit). What is the maximum profit he can achieve in this sandwich attack? (in USD, and rounded to the closest integer)"
   ]
  },
  {
   "cell_type": "markdown",
   "id": "B4ba3ftzGM8j",
   "metadata": {
    "id": "B4ba3ftzGM8j"
   },
   "source": [
    "Submission: complete google form on Ed"
   ]
  }
 ],
 "metadata": {
  "colab": {
   "provenance": []
  },
  "kernelspec": {
   "display_name": "Python 3 (ipykernel)",
   "language": "python",
   "name": "python3"
  },
  "language_info": {
   "codemirror_mode": {
    "name": "ipython",
    "version": 3
   },
   "file_extension": ".py",
   "mimetype": "text/x-python",
   "name": "python",
   "nbconvert_exporter": "python",
   "pygments_lexer": "ipython3",
   "version": "3.12.1"
  }
 },
 "nbformat": 4,
 "nbformat_minor": 5
}
