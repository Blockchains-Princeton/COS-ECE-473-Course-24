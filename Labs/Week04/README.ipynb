{
 "cells": [
  {
   "cell_type": "markdown",
   "id": "e9cd6b7b",
   "metadata": {},
   "source": [
    "# Objectives\n",
    "\n",
    "- Use Uniswap v3 and other AMMs such as Curve and Balancer as a trader and LP \n",
    "- Performing atomic swap transactions on a single exchange - Uniswap\n",
    "- Performing atomic swap transactions on a single exchange - Uniswap & Balancer\n",
    "- Perform atomic swap across exchanges\n",
    "\n",
    "# Prerequisites \n",
    "- Metamask extension should be installed on the browser\n",
    "- Complete the liquidity pool ERC20 approval step in week 3\n",
    "- An account with a minimum of 0.1 SepoliaETH, 100 UHKD, and 0.1 UETH\n",
    "\n",
    "# (to be deleted: we only use uniswap v3 in this instruction)\n",
    "# Interacting with Uniswap V3\n",
    "\n",
    "- Go to Uniswap swap app [https://app.uniswap.org/#/swap](https://app.uniswap.org/#/swap)\n",
    "- Select Trade 0.1 UETH for UHKD, do not click swap\n",
    "- Click the drop-down arrow next to the price and expand on auto-router, and observe that the trade will highly likely happen through v3\n",
    "\n",
    "This preference is because the Uniswap web app implements an auto-router that routes trades through the pool that offers the best price. In most cases, Uniswap V3 suffers from a lower slippage than V2 due to increased virtual liquidity. You can perform the trade if you like. \n",
    "\n",
    "We will now provide liquidity to Uniswap V3 and contract that with Uniswap V3. \n",
    "\n",
    "- Provide liquidity to a v3 position [here](https://app.uniswap.org/#/pool)\n",
    "- Select the UETH-UHKD pool\n",
    "- Select fee tier (corresponds to the pool) - different fee tiers correspond to different pools; this was the same case for Uniswap V2\n",
    "- Set the max price and the min price you want the liquidity to trade at \n",
    "- As an example, the min and max prices to be 1000 and 2000, respectively\n",
    "- Note that the price does not stay at 1000  and 2000 but deviates to 997.9 and 2001.4; this is because of quantized bins \n",
    "- Set the UETH deposited amount to 1 UETH\n",
    "- How is the UHKD amount calculated?\n",
    "- Approve tokens\n",
    "- Add liquidity and check the transaction on Etherscan\n",
    "- Note that the token added to your account is an ERC 721 token\n",
    "\n",
    "Contrast this to Uniswap V2, where depositing liquidity results in receiving an ERC20 LP token - which is fungible. And ERC721 is a non-fungible token, implying that it differs from other LP tokens for the same pair. This standard is implemented since liquidity is no longer locked in a single pool but is instead segregated into different ranges, which the LP is free to choose. Providing liquidity between ranges 1000-2000 differs from providing liquidity between ranges 2000-3000. Hence a non-fungible (think differentiable) token is needed to represent it. \n",
    "\n",
    "# Interacting with Balancer\n",
    "\n",
    "We will now interact with Balance - a multi-token CFMM. Balancer allows LPs to create pools with multiple assets pooled together. It also allows them to deviate from the constant product function to a generalized weighted geometric mean bonding curve - e.g., of the form x^2y = constant. \n",
    "\n",
    "- Go to Balancer trading app on sepolia testnet : [https://app.balancer.fi/#/sepolia/trade](https://app.balancer.fi/#/sepolia/trade)\n",
    "- Trade 0.1 ETH for USDC(0xda9d4f9b69ac6C22e444eD9aF0CfC043b7a7f53f), check the route from the drop-down option\n",
    "- Trade USDC for WBTC(0x37f03a12241E9FD3658ad6777d289c3fb8512Bc9) (Can you find an arbitrage route?)\n",
    "- (You can arbitrage if you find a better price to sell WBTC for ETH)\n",
    "- (Optional) Observe the Batch swap transaction on Etherscan; it will assign multiple pools to route your transaction through\n",
    "- Trade USDC for USDT: Change values from 1, 10, and 100 USDC and check swap routes - they may be different since different route are optimal for different amount of tokens\n",
    "- Note that the price indicator is not derived from the app but rather from coingecko \n",
    "- Provide liquidity to Balancer pools at [https://app.balancer.fi/#/sepolia](https://app.balancer.fi/#/sepolia)\n",
    "\n",
    "We will now provide liquidity to UETH/UHKD 50-50 pair. \n",
    "\n",
    "- Go to [https://app.balancer.fi/#/sepolia](https://app.balancer.fi/#/sepolia)\n",
    "- Search for UETH-UHKD pool (``Filter by tokens``) - select the 50-50 pool\n",
    "- Click on add-liquidity\n",
    "- Put 0.5 UETH and 1000 LUSD into the pool \n",
    "\n",
    "Note that the pool lets the LP decide the ratio of UHKD and UETH - How does depositing tokens in a ratio different from their price lead to price impact - Balancer performs a trade to balance the ratio.\n",
    "\n",
    "- Observe the transaction on Etherscan - the LP token transferred is an ERC20 token. \n",
    "- (Optional) - Add liquidity to a multi-token pool - Can you speed up the approval process?\n",
    "\n",
    "We will now create a new liquidity pool on Balancer. Note that Balancer allows multiple pools per token pair - differentiated by their fees and asset ratio. \n",
    "\n",
    "- Go to [https://app.balancer.fi/#/sepolia](https://app.balancer.fi/#/sepolia) and select ``Create pool``\n",
    "- Set first token as UETH (0xb85154E1948e52214A5F134172358Fb5010F6282) and second token as UHKD (0x4966Bb6Cd9f3e042331b0798525b7970eFB0D94A). \n",
    "- Pick a random number between 1 and 99 using the code below and set the UETH percentage as that number. Click on \"accept\" on the disclaimer. "
   ]
  },
  {
   "cell_type": "code",
   "execution_count": 22,
   "id": "b6bab7de",
   "metadata": {
    "scrolled": true
   },
   "outputs": [],
   "source": [
    "import random\n",
    "random.seed = (\"your-princeton-university-id\")\n",
    "print(\"Set LETH percentage as: \", random.randint(2,98))\n",
    "print(\"Set fee as: \", random.choices([\"0.1%\",\"0.3%\",\"1%\"]))"
   ]
  },
  {
   "cell_type": "markdown",
   "id": "76d4a3f4",
   "metadata": {},
   "source": [
    "- Populate the asset prices of LETH and LUSD as 1600 and 1 USD, respectively. Note that this is only a precaution to save LP from immediate arbitrage loss\n",
    "- Set fees as 0.3%\n",
    "- Click on continue\n",
    "- Select any number from 0.01 to 1 LETH, and click on auto-optimize to populate LUSD (You can reduce the amounts if you don't have enough funds)\n",
    "- Click on preview, complete the approval process\n",
    "- Click on ``Create pool``; this will create the pool contract through the factory\n",
    "- Click on ``fund pool`` to deposit funds \n",
    "- You can now view the pool; the auto-router will use this pool if it provides a better price "
   ]
  },
  {
   "cell_type": "markdown",
   "id": "5e06512e",
   "metadata": {},
   "source": [
    "# Interacting with Uniswap using Universal Router\n",
    "\n",
    "We continue this section from Week 3. We understood how to build transactions and approve the right smart contracts to use our funds to perform these swaps using. Then, we executed an atomic swap. Now, we try to use another router named \"Universal Router\" to construct atomic swap.\n",
    "The Universal Router is a ERC20 and NFT swap router that allows users greater flexibility when performing trades across multiple token types. Transactions are encoded using a string of commands, allowing users to have maximum flexibility over what they want to perform. With all of these features available in a single transaction, the possibilities available to users are endless"
   ]
  },
  {
   "cell_type": "markdown",
   "id": "e63dcbf8",
   "metadata": {},
   "source": [
    "## Populate all relavant variables\n",
    "You can copy your code from the previous lab here:"
   ]
  },
  {
   "cell_type": "code",
   "execution_count": 12,
   "id": "980a2bfb",
   "metadata": {},
   "outputs": [
    {
     "name": "stdout",
     "output_type": "stream",
     "text": [
      "{'manager': <web3.manager.RequestManager object at 0x0000023BA2D1CE50>, 'codec': <eth_abi.codec.ABICodec object at 0x0000023BA2D80B10>, 'eth': <web3.eth.eth.Eth object at 0x0000023BA2D83D10>, 'net': <web3.net.Net object at 0x0000023BA2D83F10>, 'geth': <web3.geth.Geth object at 0x0000023BA2D801D0>, 'tracing': <web3.tracing.Tracing object at 0x0000023BA2D80F10>, 'testing': <web3.testing.Testing object at 0x0000023BA2D80790>, '_ens': <web3._utils.empty.Empty object at 0x0000023B9E3D7C10>}\n",
      "5094709\n"
     ]
    }
   ],
   "source": [
    "from web3 import Web3\n",
    "from datetime import datetime, timedelta\n",
    "\n",
    "w3 = Web3(Web3.HTTPProvider('https://sepolia.infura.io/v3/4eaf587984db4d558d30ceb6418054e3'))\n",
    "\n",
    "print(w3.__dict__)\n",
    "print(w3.eth.get_block_number())\n",
    "\n",
    "\n",
    "public_address = Web3.to_checksum_address('0x30fB45515f453453Cdb57Be5B54165d874CE146D')\n",
    "private_key = '5449ffdc7c8c792cc49e35fe9a23f4b4ac3866daa24031ee694b9068fcc2259d'\n",
    "\n",
    "\n",
    "ueth_token_address = Web3.to_checksum_address('0xd10A9Ec6E827B13cF399fCC7E6424f233E99562a')\n",
    "uhkd_token_address = Web3.to_checksum_address('0x64B6f44862E8800EBd63Cd7f1319C8BF0BC1bb99')\n",
    "abi_ueth = '[{\"inputs\":[],\"stateMutability\":\"nonpayable\",\"type\":\"constructor\"},{\"inputs\":[{\"internalType\":\"address\",\"name\":\"spender\",\"type\":\"address\"},{\"internalType\":\"uint256\",\"name\":\"allowance\",\"type\":\"uint256\"},{\"internalType\":\"uint256\",\"name\":\"needed\",\"type\":\"uint256\"}],\"name\":\"ERC20InsufficientAllowance\",\"type\":\"error\"},{\"inputs\":[{\"internalType\":\"address\",\"name\":\"sender\",\"type\":\"address\"},{\"internalType\":\"uint256\",\"name\":\"balance\",\"type\":\"uint256\"},{\"internalType\":\"uint256\",\"name\":\"needed\",\"type\":\"uint256\"}],\"name\":\"ERC20InsufficientBalance\",\"type\":\"error\"},{\"inputs\":[{\"internalType\":\"address\",\"name\":\"approver\",\"type\":\"address\"}],\"name\":\"ERC20InvalidApprover\",\"type\":\"error\"},{\"inputs\":[{\"internalType\":\"address\",\"name\":\"receiver\",\"type\":\"address\"}],\"name\":\"ERC20InvalidReceiver\",\"type\":\"error\"},{\"inputs\":[{\"internalType\":\"address\",\"name\":\"sender\",\"type\":\"address\"}],\"name\":\"ERC20InvalidSender\",\"type\":\"error\"},{\"inputs\":[{\"internalType\":\"address\",\"name\":\"spender\",\"type\":\"address\"}],\"name\":\"ERC20InvalidSpender\",\"type\":\"error\"},{\"inputs\":[{\"internalType\":\"address\",\"name\":\"owner\",\"type\":\"address\"}],\"name\":\"OwnableInvalidOwner\",\"type\":\"error\"},{\"inputs\":[{\"internalType\":\"address\",\"name\":\"account\",\"type\":\"address\"}],\"name\":\"OwnableUnauthorizedAccount\",\"type\":\"error\"},{\"anonymous\":false,\"inputs\":[{\"indexed\":true,\"internalType\":\"address\",\"name\":\"owner\",\"type\":\"address\"},{\"indexed\":true,\"internalType\":\"address\",\"name\":\"spender\",\"type\":\"address\"},{\"indexed\":false,\"internalType\":\"uint256\",\"name\":\"value\",\"type\":\"uint256\"}],\"name\":\"Approval\",\"type\":\"event\"},{\"anonymous\":false,\"inputs\":[{\"indexed\":true,\"internalType\":\"address\",\"name\":\"previousOwner\",\"type\":\"address\"},{\"indexed\":true,\"internalType\":\"address\",\"name\":\"newOwner\",\"type\":\"address\"}],\"name\":\"OwnershipTransferred\",\"type\":\"event\"},{\"anonymous\":false,\"inputs\":[{\"indexed\":true,\"internalType\":\"address\",\"name\":\"from\",\"type\":\"address\"},{\"indexed\":true,\"internalType\":\"address\",\"name\":\"to\",\"type\":\"address\"},{\"indexed\":false,\"internalType\":\"uint256\",\"name\":\"value\",\"type\":\"uint256\"}],\"name\":\"Transfer\",\"type\":\"event\"},{\"inputs\":[{\"internalType\":\"address\",\"name\":\"owner\",\"type\":\"address\"},{\"internalType\":\"address\",\"name\":\"spender\",\"type\":\"address\"}],\"name\":\"allowance\",\"outputs\":[{\"internalType\":\"uint256\",\"name\":\"\",\"type\":\"uint256\"}],\"stateMutability\":\"view\",\"type\":\"function\"},{\"inputs\":[{\"internalType\":\"address\",\"name\":\"spender\",\"type\":\"address\"},{\"internalType\":\"uint256\",\"name\":\"value\",\"type\":\"uint256\"}],\"name\":\"approve\",\"outputs\":[{\"internalType\":\"bool\",\"name\":\"\",\"type\":\"bool\"}],\"stateMutability\":\"nonpayable\",\"type\":\"function\"},{\"inputs\":[{\"internalType\":\"address\",\"name\":\"account\",\"type\":\"address\"}],\"name\":\"balanceOf\",\"outputs\":[{\"internalType\":\"uint256\",\"name\":\"\",\"type\":\"uint256\"}],\"stateMutability\":\"view\",\"type\":\"function\"},{\"inputs\":[],\"name\":\"decimals\",\"outputs\":[{\"internalType\":\"uint8\",\"name\":\"\",\"type\":\"uint8\"}],\"stateMutability\":\"view\",\"type\":\"function\"},{\"inputs\":[{\"internalType\":\"address\",\"name\":\"to\",\"type\":\"address\"},{\"internalType\":\"uint256\",\"name\":\"amount\",\"type\":\"uint256\"}],\"name\":\"mint\",\"outputs\":[],\"stateMutability\":\"nonpayable\",\"type\":\"function\"},{\"inputs\":[],\"name\":\"name\",\"outputs\":[{\"internalType\":\"string\",\"name\":\"\",\"type\":\"string\"}],\"stateMutability\":\"view\",\"type\":\"function\"},{\"inputs\":[],\"name\":\"owner\",\"outputs\":[{\"internalType\":\"address\",\"name\":\"\",\"type\":\"address\"}],\"stateMutability\":\"view\",\"type\":\"function\"},{\"inputs\":[],\"name\":\"renounceOwnership\",\"outputs\":[],\"stateMutability\":\"nonpayable\",\"type\":\"function\"},{\"inputs\":[],\"name\":\"symbol\",\"outputs\":[{\"internalType\":\"string\",\"name\":\"\",\"type\":\"string\"}],\"stateMutability\":\"view\",\"type\":\"function\"},{\"inputs\":[],\"name\":\"totalSupply\",\"outputs\":[{\"internalType\":\"uint256\",\"name\":\"\",\"type\":\"uint256\"}],\"stateMutability\":\"view\",\"type\":\"function\"},{\"inputs\":[{\"internalType\":\"address\",\"name\":\"to\",\"type\":\"address\"},{\"internalType\":\"uint256\",\"name\":\"value\",\"type\":\"uint256\"}],\"name\":\"transfer\",\"outputs\":[{\"internalType\":\"bool\",\"name\":\"\",\"type\":\"bool\"}],\"stateMutability\":\"nonpayable\",\"type\":\"function\"},{\"inputs\":[{\"internalType\":\"address\",\"name\":\"from\",\"type\":\"address\"},{\"internalType\":\"address\",\"name\":\"to\",\"type\":\"address\"},{\"internalType\":\"uint256\",\"name\":\"value\",\"type\":\"uint256\"}],\"name\":\"transferFrom\",\"outputs\":[{\"internalType\":\"bool\",\"name\":\"\",\"type\":\"bool\"}],\"stateMutability\":\"nonpayable\",\"type\":\"function\"},{\"inputs\":[{\"internalType\":\"address\",\"name\":\"newOwner\",\"type\":\"address\"}],\"name\":\"transferOwnership\",\"outputs\":[],\"stateMutability\":\"nonpayable\",\"type\":\"function\"}]'\n",
    "abi_uhkd = '[{\"inputs\":[],\"stateMutability\":\"nonpayable\",\"type\":\"constructor\"},{\"inputs\":[{\"internalType\":\"address\",\"name\":\"spender\",\"type\":\"address\"},{\"internalType\":\"uint256\",\"name\":\"allowance\",\"type\":\"uint256\"},{\"internalType\":\"uint256\",\"name\":\"needed\",\"type\":\"uint256\"}],\"name\":\"ERC20InsufficientAllowance\",\"type\":\"error\"},{\"inputs\":[{\"internalType\":\"address\",\"name\":\"sender\",\"type\":\"address\"},{\"internalType\":\"uint256\",\"name\":\"balance\",\"type\":\"uint256\"},{\"internalType\":\"uint256\",\"name\":\"needed\",\"type\":\"uint256\"}],\"name\":\"ERC20InsufficientBalance\",\"type\":\"error\"},{\"inputs\":[{\"internalType\":\"address\",\"name\":\"approver\",\"type\":\"address\"}],\"name\":\"ERC20InvalidApprover\",\"type\":\"error\"},{\"inputs\":[{\"internalType\":\"address\",\"name\":\"receiver\",\"type\":\"address\"}],\"name\":\"ERC20InvalidReceiver\",\"type\":\"error\"},{\"inputs\":[{\"internalType\":\"address\",\"name\":\"sender\",\"type\":\"address\"}],\"name\":\"ERC20InvalidSender\",\"type\":\"error\"},{\"inputs\":[{\"internalType\":\"address\",\"name\":\"spender\",\"type\":\"address\"}],\"name\":\"ERC20InvalidSpender\",\"type\":\"error\"},{\"inputs\":[{\"internalType\":\"address\",\"name\":\"owner\",\"type\":\"address\"}],\"name\":\"OwnableInvalidOwner\",\"type\":\"error\"},{\"inputs\":[{\"internalType\":\"address\",\"name\":\"account\",\"type\":\"address\"}],\"name\":\"OwnableUnauthorizedAccount\",\"type\":\"error\"},{\"anonymous\":false,\"inputs\":[{\"indexed\":true,\"internalType\":\"address\",\"name\":\"owner\",\"type\":\"address\"},{\"indexed\":true,\"internalType\":\"address\",\"name\":\"spender\",\"type\":\"address\"},{\"indexed\":false,\"internalType\":\"uint256\",\"name\":\"value\",\"type\":\"uint256\"}],\"name\":\"Approval\",\"type\":\"event\"},{\"anonymous\":false,\"inputs\":[{\"indexed\":true,\"internalType\":\"address\",\"name\":\"previousOwner\",\"type\":\"address\"},{\"indexed\":true,\"internalType\":\"address\",\"name\":\"newOwner\",\"type\":\"address\"}],\"name\":\"OwnershipTransferred\",\"type\":\"event\"},{\"anonymous\":false,\"inputs\":[{\"indexed\":true,\"internalType\":\"address\",\"name\":\"from\",\"type\":\"address\"},{\"indexed\":true,\"internalType\":\"address\",\"name\":\"to\",\"type\":\"address\"},{\"indexed\":false,\"internalType\":\"uint256\",\"name\":\"value\",\"type\":\"uint256\"}],\"name\":\"Transfer\",\"type\":\"event\"},{\"inputs\":[{\"internalType\":\"address\",\"name\":\"owner\",\"type\":\"address\"},{\"internalType\":\"address\",\"name\":\"spender\",\"type\":\"address\"}],\"name\":\"allowance\",\"outputs\":[{\"internalType\":\"uint256\",\"name\":\"\",\"type\":\"uint256\"}],\"stateMutability\":\"view\",\"type\":\"function\"},{\"inputs\":[{\"internalType\":\"address\",\"name\":\"spender\",\"type\":\"address\"},{\"internalType\":\"uint256\",\"name\":\"value\",\"type\":\"uint256\"}],\"name\":\"approve\",\"outputs\":[{\"internalType\":\"bool\",\"name\":\"\",\"type\":\"bool\"}],\"stateMutability\":\"nonpayable\",\"type\":\"function\"},{\"inputs\":[{\"internalType\":\"address\",\"name\":\"account\",\"type\":\"address\"}],\"name\":\"balanceOf\",\"outputs\":[{\"internalType\":\"uint256\",\"name\":\"\",\"type\":\"uint256\"}],\"stateMutability\":\"view\",\"type\":\"function\"},{\"inputs\":[],\"name\":\"decimals\",\"outputs\":[{\"internalType\":\"uint8\",\"name\":\"\",\"type\":\"uint8\"}],\"stateMutability\":\"view\",\"type\":\"function\"},{\"inputs\":[{\"internalType\":\"address\",\"name\":\"to\",\"type\":\"address\"},{\"internalType\":\"uint256\",\"name\":\"amount\",\"type\":\"uint256\"}],\"name\":\"mint\",\"outputs\":[],\"stateMutability\":\"nonpayable\",\"type\":\"function\"},{\"inputs\":[],\"name\":\"name\",\"outputs\":[{\"internalType\":\"string\",\"name\":\"\",\"type\":\"string\"}],\"stateMutability\":\"view\",\"type\":\"function\"},{\"inputs\":[],\"name\":\"owner\",\"outputs\":[{\"internalType\":\"address\",\"name\":\"\",\"type\":\"address\"}],\"stateMutability\":\"view\",\"type\":\"function\"},{\"inputs\":[],\"name\":\"renounceOwnership\",\"outputs\":[],\"stateMutability\":\"nonpayable\",\"type\":\"function\"},{\"inputs\":[],\"name\":\"symbol\",\"outputs\":[{\"internalType\":\"string\",\"name\":\"\",\"type\":\"string\"}],\"stateMutability\":\"view\",\"type\":\"function\"},{\"inputs\":[],\"name\":\"totalSupply\",\"outputs\":[{\"internalType\":\"uint256\",\"name\":\"\",\"type\":\"uint256\"}],\"stateMutability\":\"view\",\"type\":\"function\"},{\"inputs\":[{\"internalType\":\"address\",\"name\":\"to\",\"type\":\"address\"},{\"internalType\":\"uint256\",\"name\":\"value\",\"type\":\"uint256\"}],\"name\":\"transfer\",\"outputs\":[{\"internalType\":\"bool\",\"name\":\"\",\"type\":\"bool\"}],\"stateMutability\":\"nonpayable\",\"type\":\"function\"},{\"inputs\":[{\"internalType\":\"address\",\"name\":\"from\",\"type\":\"address\"},{\"internalType\":\"address\",\"name\":\"to\",\"type\":\"address\"},{\"internalType\":\"uint256\",\"name\":\"value\",\"type\":\"uint256\"}],\"name\":\"transferFrom\",\"outputs\":[{\"internalType\":\"bool\",\"name\":\"\",\"type\":\"bool\"}],\"stateMutability\":\"nonpayable\",\"type\":\"function\"},{\"inputs\":[{\"internalType\":\"address\",\"name\":\"newOwner\",\"type\":\"address\"}],\"name\":\"transferOwnership\",\"outputs\":[],\"stateMutability\":\"nonpayable\",\"type\":\"function\"}]'\n"
   ]
  },
  {
   "cell_type": "markdown",
   "id": "3d53568f",
   "metadata": {},
   "source": [
    "You can then initialize universal router and permit2 smart contract"
   ]
  },
  {
   "cell_type": "code",
   "execution_count": 16,
   "id": "e1db250b",
   "metadata": {},
   "outputs": [],
   "source": [
    "router_address = Web3.to_checksum_address('0x3fC91A3afd70395Cd496C647d5a6CC9D4B2b7FAD')\n",
    "abi_router = '[{\"inputs\":[{\"components\":[{\"internalType\":\"address\",\"name\":\"permit2\",\"type\":\"address\"},{\"internalType\":\"address\",\"name\":\"weth9\",\"type\":\"address\"},{\"internalType\":\"address\",\"name\":\"seaportV1_5\",\"type\":\"address\"},{\"internalType\":\"address\",\"name\":\"seaportV1_4\",\"type\":\"address\"},{\"internalType\":\"address\",\"name\":\"openseaConduit\",\"type\":\"address\"},{\"internalType\":\"address\",\"name\":\"nftxZap\",\"type\":\"address\"},{\"internalType\":\"address\",\"name\":\"x2y2\",\"type\":\"address\"},{\"internalType\":\"address\",\"name\":\"foundation\",\"type\":\"address\"},{\"internalType\":\"address\",\"name\":\"sudoswap\",\"type\":\"address\"},{\"internalType\":\"address\",\"name\":\"elementMarket\",\"type\":\"address\"},{\"internalType\":\"address\",\"name\":\"nft20Zap\",\"type\":\"address\"},{\"internalType\":\"address\",\"name\":\"cryptopunks\",\"type\":\"address\"},{\"internalType\":\"address\",\"name\":\"looksRareV2\",\"type\":\"address\"},{\"internalType\":\"address\",\"name\":\"routerRewardsDistributor\",\"type\":\"address\"},{\"internalType\":\"address\",\"name\":\"looksRareRewardsDistributor\",\"type\":\"address\"},{\"internalType\":\"address\",\"name\":\"looksRareToken\",\"type\":\"address\"},{\"internalType\":\"address\",\"name\":\"v2Factory\",\"type\":\"address\"},{\"internalType\":\"address\",\"name\":\"v3Factory\",\"type\":\"address\"},{\"internalType\":\"bytes32\",\"name\":\"pairInitCodeHash\",\"type\":\"bytes32\"},{\"internalType\":\"bytes32\",\"name\":\"poolInitCodeHash\",\"type\":\"bytes32\"}],\"internalType\":\"struct RouterParameters\",\"name\":\"params\",\"type\":\"tuple\"}],\"stateMutability\":\"nonpayable\",\"type\":\"constructor\"},{\"inputs\":[],\"name\":\"BalanceTooLow\",\"type\":\"error\"},{\"inputs\":[],\"name\":\"BuyPunkFailed\",\"type\":\"error\"},{\"inputs\":[],\"name\":\"ContractLocked\",\"type\":\"error\"},{\"inputs\":[],\"name\":\"ETHNotAccepted\",\"type\":\"error\"},{\"inputs\":[{\"internalType\":\"uint256\",\"name\":\"commandIndex\",\"type\":\"uint256\"},{\"internalType\":\"bytes\",\"name\":\"message\",\"type\":\"bytes\"}],\"name\":\"ExecutionFailed\",\"type\":\"error\"},{\"inputs\":[],\"name\":\"FromAddressIsNotOwner\",\"type\":\"error\"},{\"inputs\":[],\"name\":\"InsufficientETH\",\"type\":\"error\"},{\"inputs\":[],\"name\":\"InsufficientToken\",\"type\":\"error\"},{\"inputs\":[],\"name\":\"InvalidBips\",\"type\":\"error\"},{\"inputs\":[{\"internalType\":\"uint256\",\"name\":\"commandType\",\"type\":\"uint256\"}],\"name\":\"InvalidCommandType\",\"type\":\"error\"},{\"inputs\":[],\"name\":\"InvalidOwnerERC1155\",\"type\":\"error\"},{\"inputs\":[],\"name\":\"InvalidOwnerERC721\",\"type\":\"error\"},{\"inputs\":[],\"name\":\"InvalidPath\",\"type\":\"error\"},{\"inputs\":[],\"name\":\"InvalidReserves\",\"type\":\"error\"},{\"inputs\":[],\"name\":\"InvalidSpender\",\"type\":\"error\"},{\"inputs\":[],\"name\":\"LengthMismatch\",\"type\":\"error\"},{\"inputs\":[],\"name\":\"SliceOutOfBounds\",\"type\":\"error\"},{\"inputs\":[],\"name\":\"TransactionDeadlinePassed\",\"type\":\"error\"},{\"inputs\":[],\"name\":\"UnableToClaim\",\"type\":\"error\"},{\"inputs\":[],\"name\":\"UnsafeCast\",\"type\":\"error\"},{\"inputs\":[],\"name\":\"V2InvalidPath\",\"type\":\"error\"},{\"inputs\":[],\"name\":\"V2TooLittleReceived\",\"type\":\"error\"},{\"inputs\":[],\"name\":\"V2TooMuchRequested\",\"type\":\"error\"},{\"inputs\":[],\"name\":\"V3InvalidAmountOut\",\"type\":\"error\"},{\"inputs\":[],\"name\":\"V3InvalidCaller\",\"type\":\"error\"},{\"inputs\":[],\"name\":\"V3InvalidSwap\",\"type\":\"error\"},{\"inputs\":[],\"name\":\"V3TooLittleReceived\",\"type\":\"error\"},{\"inputs\":[],\"name\":\"V3TooMuchRequested\",\"type\":\"error\"},{\"anonymous\":false,\"inputs\":[{\"indexed\":false,\"internalType\":\"uint256\",\"name\":\"amount\",\"type\":\"uint256\"}],\"name\":\"RewardsSent\",\"type\":\"event\"},{\"inputs\":[{\"internalType\":\"bytes\",\"name\":\"looksRareClaim\",\"type\":\"bytes\"}],\"name\":\"collectRewards\",\"outputs\":[],\"stateMutability\":\"nonpayable\",\"type\":\"function\"},{\"inputs\":[{\"internalType\":\"bytes\",\"name\":\"commands\",\"type\":\"bytes\"},{\"internalType\":\"bytes[]\",\"name\":\"inputs\",\"type\":\"bytes[]\"}],\"name\":\"execute\",\"outputs\":[],\"stateMutability\":\"payable\",\"type\":\"function\"},{\"inputs\":[{\"internalType\":\"bytes\",\"name\":\"commands\",\"type\":\"bytes\"},{\"internalType\":\"bytes[]\",\"name\":\"inputs\",\"type\":\"bytes[]\"},{\"internalType\":\"uint256\",\"name\":\"deadline\",\"type\":\"uint256\"}],\"name\":\"execute\",\"outputs\":[],\"stateMutability\":\"payable\",\"type\":\"function\"},{\"inputs\":[{\"internalType\":\"address\",\"name\":\"\",\"type\":\"address\"},{\"internalType\":\"address\",\"name\":\"\",\"type\":\"address\"},{\"internalType\":\"uint256[]\",\"name\":\"\",\"type\":\"uint256[]\"},{\"internalType\":\"uint256[]\",\"name\":\"\",\"type\":\"uint256[]\"},{\"internalType\":\"bytes\",\"name\":\"\",\"type\":\"bytes\"}],\"name\":\"onERC1155BatchReceived\",\"outputs\":[{\"internalType\":\"bytes4\",\"name\":\"\",\"type\":\"bytes4\"}],\"stateMutability\":\"pure\",\"type\":\"function\"},{\"inputs\":[{\"internalType\":\"address\",\"name\":\"\",\"type\":\"address\"},{\"internalType\":\"address\",\"name\":\"\",\"type\":\"address\"},{\"internalType\":\"uint256\",\"name\":\"\",\"type\":\"uint256\"},{\"internalType\":\"uint256\",\"name\":\"\",\"type\":\"uint256\"},{\"internalType\":\"bytes\",\"name\":\"\",\"type\":\"bytes\"}],\"name\":\"onERC1155Received\",\"outputs\":[{\"internalType\":\"bytes4\",\"name\":\"\",\"type\":\"bytes4\"}],\"stateMutability\":\"pure\",\"type\":\"function\"},{\"inputs\":[{\"internalType\":\"address\",\"name\":\"\",\"type\":\"address\"},{\"internalType\":\"address\",\"name\":\"\",\"type\":\"address\"},{\"internalType\":\"uint256\",\"name\":\"\",\"type\":\"uint256\"},{\"internalType\":\"bytes\",\"name\":\"\",\"type\":\"bytes\"}],\"name\":\"onERC721Received\",\"outputs\":[{\"internalType\":\"bytes4\",\"name\":\"\",\"type\":\"bytes4\"}],\"stateMutability\":\"pure\",\"type\":\"function\"},{\"inputs\":[{\"internalType\":\"bytes4\",\"name\":\"interfaceId\",\"type\":\"bytes4\"}],\"name\":\"supportsInterface\",\"outputs\":[{\"internalType\":\"bool\",\"name\":\"\",\"type\":\"bool\"}],\"stateMutability\":\"pure\",\"type\":\"function\"},{\"inputs\":[{\"internalType\":\"int256\",\"name\":\"amount0Delta\",\"type\":\"int256\"},{\"internalType\":\"int256\",\"name\":\"amount1Delta\",\"type\":\"int256\"},{\"internalType\":\"bytes\",\"name\":\"data\",\"type\":\"bytes\"}],\"name\":\"uniswapV3SwapCallback\",\"outputs\":[],\"stateMutability\":\"nonpayable\",\"type\":\"function\"},{\"stateMutability\":\"payable\",\"type\":\"receive\"}]'\n",
    "\n",
    "\n",
    "permit2_address = w3.to_checksum_address('0x000000000022D473030F116dDEE9F6B43aC78BA3')\n",
    "abi_permit2 = '[{\"inputs\":[{\"internalType\":\"uint256\",\"name\":\"deadline\",\"type\":\"uint256\"}],\"name\":\"AllowanceExpired\",\"type\":\"error\"},{\"inputs\":[],\"name\":\"ExcessiveInvalidation\",\"type\":\"error\"},{\"inputs\":[{\"internalType\":\"uint256\",\"name\":\"amount\",\"type\":\"uint256\"}],\"name\":\"InsufficientAllowance\",\"type\":\"error\"},{\"inputs\":[{\"internalType\":\"uint256\",\"name\":\"maxAmount\",\"type\":\"uint256\"}],\"name\":\"InvalidAmount\",\"type\":\"error\"},{\"inputs\":[],\"name\":\"InvalidContractSignature\",\"type\":\"error\"},{\"inputs\":[],\"name\":\"InvalidNonce\",\"type\":\"error\"},{\"inputs\":[],\"name\":\"InvalidSignature\",\"type\":\"error\"},{\"inputs\":[],\"name\":\"InvalidSignatureLength\",\"type\":\"error\"},{\"inputs\":[],\"name\":\"InvalidSigner\",\"type\":\"error\"},{\"inputs\":[],\"name\":\"LengthMismatch\",\"type\":\"error\"},{\"inputs\":[{\"internalType\":\"uint256\",\"name\":\"signatureDeadline\",\"type\":\"uint256\"}],\"name\":\"SignatureExpired\",\"type\":\"error\"},{\"anonymous\":false,\"inputs\":[{\"indexed\":true,\"internalType\":\"address\",\"name\":\"owner\",\"type\":\"address\"},{\"indexed\":true,\"internalType\":\"address\",\"name\":\"token\",\"type\":\"address\"},{\"indexed\":true,\"internalType\":\"address\",\"name\":\"spender\",\"type\":\"address\"},{\"indexed\":false,\"internalType\":\"uint160\",\"name\":\"amount\",\"type\":\"uint160\"},{\"indexed\":false,\"internalType\":\"uint48\",\"name\":\"expiration\",\"type\":\"uint48\"}],\"name\":\"Approval\",\"type\":\"event\"},{\"anonymous\":false,\"inputs\":[{\"indexed\":true,\"internalType\":\"address\",\"name\":\"owner\",\"type\":\"address\"},{\"indexed\":false,\"internalType\":\"address\",\"name\":\"token\",\"type\":\"address\"},{\"indexed\":false,\"internalType\":\"address\",\"name\":\"spender\",\"type\":\"address\"}],\"name\":\"Lockdown\",\"type\":\"event\"},{\"anonymous\":false,\"inputs\":[{\"indexed\":true,\"internalType\":\"address\",\"name\":\"owner\",\"type\":\"address\"},{\"indexed\":true,\"internalType\":\"address\",\"name\":\"token\",\"type\":\"address\"},{\"indexed\":true,\"internalType\":\"address\",\"name\":\"spender\",\"type\":\"address\"},{\"indexed\":false,\"internalType\":\"uint48\",\"name\":\"newNonce\",\"type\":\"uint48\"},{\"indexed\":false,\"internalType\":\"uint48\",\"name\":\"oldNonce\",\"type\":\"uint48\"}],\"name\":\"NonceInvalidation\",\"type\":\"event\"},{\"anonymous\":false,\"inputs\":[{\"indexed\":true,\"internalType\":\"address\",\"name\":\"owner\",\"type\":\"address\"},{\"indexed\":true,\"internalType\":\"address\",\"name\":\"token\",\"type\":\"address\"},{\"indexed\":true,\"internalType\":\"address\",\"name\":\"spender\",\"type\":\"address\"},{\"indexed\":false,\"internalType\":\"uint160\",\"name\":\"amount\",\"type\":\"uint160\"},{\"indexed\":false,\"internalType\":\"uint48\",\"name\":\"expiration\",\"type\":\"uint48\"},{\"indexed\":false,\"internalType\":\"uint48\",\"name\":\"nonce\",\"type\":\"uint48\"}],\"name\":\"Permit\",\"type\":\"event\"},{\"anonymous\":false,\"inputs\":[{\"indexed\":true,\"internalType\":\"address\",\"name\":\"owner\",\"type\":\"address\"},{\"indexed\":false,\"internalType\":\"uint256\",\"name\":\"word\",\"type\":\"uint256\"},{\"indexed\":false,\"internalType\":\"uint256\",\"name\":\"mask\",\"type\":\"uint256\"}],\"name\":\"UnorderedNonceInvalidation\",\"type\":\"event\"},{\"inputs\":[],\"name\":\"DOMAIN_SEPARATOR\",\"outputs\":[{\"internalType\":\"bytes32\",\"name\":\"\",\"type\":\"bytes32\"}],\"stateMutability\":\"view\",\"type\":\"function\"},{\"inputs\":[{\"internalType\":\"address\",\"name\":\"\",\"type\":\"address\"},{\"internalType\":\"address\",\"name\":\"\",\"type\":\"address\"},{\"internalType\":\"address\",\"name\":\"\",\"type\":\"address\"}],\"name\":\"allowance\",\"outputs\":[{\"internalType\":\"uint160\",\"name\":\"amount\",\"type\":\"uint160\"},{\"internalType\":\"uint48\",\"name\":\"expiration\",\"type\":\"uint48\"},{\"internalType\":\"uint48\",\"name\":\"nonce\",\"type\":\"uint48\"}],\"stateMutability\":\"view\",\"type\":\"function\"},{\"inputs\":[{\"internalType\":\"address\",\"name\":\"token\",\"type\":\"address\"},{\"internalType\":\"address\",\"name\":\"spender\",\"type\":\"address\"},{\"internalType\":\"uint160\",\"name\":\"amount\",\"type\":\"uint160\"},{\"internalType\":\"uint48\",\"name\":\"expiration\",\"type\":\"uint48\"}],\"name\":\"approve\",\"outputs\":[],\"stateMutability\":\"nonpayable\",\"type\":\"function\"},{\"inputs\":[{\"internalType\":\"address\",\"name\":\"token\",\"type\":\"address\"},{\"internalType\":\"address\",\"name\":\"spender\",\"type\":\"address\"},{\"internalType\":\"uint48\",\"name\":\"newNonce\",\"type\":\"uint48\"}],\"name\":\"invalidateNonces\",\"outputs\":[],\"stateMutability\":\"nonpayable\",\"type\":\"function\"},{\"inputs\":[{\"internalType\":\"uint256\",\"name\":\"wordPos\",\"type\":\"uint256\"},{\"internalType\":\"uint256\",\"name\":\"mask\",\"type\":\"uint256\"}],\"name\":\"invalidateUnorderedNonces\",\"outputs\":[],\"stateMutability\":\"nonpayable\",\"type\":\"function\"},{\"inputs\":[{\"components\":[{\"internalType\":\"address\",\"name\":\"token\",\"type\":\"address\"},{\"internalType\":\"address\",\"name\":\"spender\",\"type\":\"address\"}],\"internalType\":\"struct IAllowanceTransfer.TokenSpenderPair[]\",\"name\":\"approvals\",\"type\":\"tuple[]\"}],\"name\":\"lockdown\",\"outputs\":[],\"stateMutability\":\"nonpayable\",\"type\":\"function\"},{\"inputs\":[{\"internalType\":\"address\",\"name\":\"\",\"type\":\"address\"},{\"internalType\":\"uint256\",\"name\":\"\",\"type\":\"uint256\"}],\"name\":\"nonceBitmap\",\"outputs\":[{\"internalType\":\"uint256\",\"name\":\"\",\"type\":\"uint256\"}],\"stateMutability\":\"view\",\"type\":\"function\"},{\"inputs\":[{\"internalType\":\"address\",\"name\":\"owner\",\"type\":\"address\"},{\"components\":[{\"components\":[{\"internalType\":\"address\",\"name\":\"token\",\"type\":\"address\"},{\"internalType\":\"uint160\",\"name\":\"amount\",\"type\":\"uint160\"},{\"internalType\":\"uint48\",\"name\":\"expiration\",\"type\":\"uint48\"},{\"internalType\":\"uint48\",\"name\":\"nonce\",\"type\":\"uint48\"}],\"internalType\":\"struct IAllowanceTransfer.PermitDetails[]\",\"name\":\"details\",\"type\":\"tuple[]\"},{\"internalType\":\"address\",\"name\":\"spender\",\"type\":\"address\"},{\"internalType\":\"uint256\",\"name\":\"sigDeadline\",\"type\":\"uint256\"}],\"internalType\":\"struct IAllowanceTransfer.PermitBatch\",\"name\":\"permitBatch\",\"type\":\"tuple\"},{\"internalType\":\"bytes\",\"name\":\"signature\",\"type\":\"bytes\"}],\"name\":\"permit\",\"outputs\":[],\"stateMutability\":\"nonpayable\",\"type\":\"function\"},{\"inputs\":[{\"internalType\":\"address\",\"name\":\"owner\",\"type\":\"address\"},{\"components\":[{\"components\":[{\"internalType\":\"address\",\"name\":\"token\",\"type\":\"address\"},{\"internalType\":\"uint160\",\"name\":\"amount\",\"type\":\"uint160\"},{\"internalType\":\"uint48\",\"name\":\"expiration\",\"type\":\"uint48\"},{\"internalType\":\"uint48\",\"name\":\"nonce\",\"type\":\"uint48\"}],\"internalType\":\"struct IAllowanceTransfer.PermitDetails\",\"name\":\"details\",\"type\":\"tuple\"},{\"internalType\":\"address\",\"name\":\"spender\",\"type\":\"address\"},{\"internalType\":\"uint256\",\"name\":\"sigDeadline\",\"type\":\"uint256\"}],\"internalType\":\"struct IAllowanceTransfer.PermitSingle\",\"name\":\"permitSingle\",\"type\":\"tuple\"},{\"internalType\":\"bytes\",\"name\":\"signature\",\"type\":\"bytes\"}],\"name\":\"permit\",\"outputs\":[],\"stateMutability\":\"nonpayable\",\"type\":\"function\"},{\"inputs\":[{\"components\":[{\"components\":[{\"internalType\":\"address\",\"name\":\"token\",\"type\":\"address\"},{\"internalType\":\"uint256\",\"name\":\"amount\",\"type\":\"uint256\"}],\"internalType\":\"struct ISignatureTransfer.TokenPermissions\",\"name\":\"permitted\",\"type\":\"tuple\"},{\"internalType\":\"uint256\",\"name\":\"nonce\",\"type\":\"uint256\"},{\"internalType\":\"uint256\",\"name\":\"deadline\",\"type\":\"uint256\"}],\"internalType\":\"struct ISignatureTransfer.PermitTransferFrom\",\"name\":\"permit\",\"type\":\"tuple\"},{\"components\":[{\"internalType\":\"address\",\"name\":\"to\",\"type\":\"address\"},{\"internalType\":\"uint256\",\"name\":\"requestedAmount\",\"type\":\"uint256\"}],\"internalType\":\"struct ISignatureTransfer.SignatureTransferDetails\",\"name\":\"transferDetails\",\"type\":\"tuple\"},{\"internalType\":\"address\",\"name\":\"owner\",\"type\":\"address\"},{\"internalType\":\"bytes\",\"name\":\"signature\",\"type\":\"bytes\"}],\"name\":\"permitTransferFrom\",\"outputs\":[],\"stateMutability\":\"nonpayable\",\"type\":\"function\"},{\"inputs\":[{\"components\":[{\"components\":[{\"internalType\":\"address\",\"name\":\"token\",\"type\":\"address\"},{\"internalType\":\"uint256\",\"name\":\"amount\",\"type\":\"uint256\"}],\"internalType\":\"struct ISignatureTransfer.TokenPermissions[]\",\"name\":\"permitted\",\"type\":\"tuple[]\"},{\"internalType\":\"uint256\",\"name\":\"nonce\",\"type\":\"uint256\"},{\"internalType\":\"uint256\",\"name\":\"deadline\",\"type\":\"uint256\"}],\"internalType\":\"struct ISignatureTransfer.PermitBatchTransferFrom\",\"name\":\"permit\",\"type\":\"tuple\"},{\"components\":[{\"internalType\":\"address\",\"name\":\"to\",\"type\":\"address\"},{\"internalType\":\"uint256\",\"name\":\"requestedAmount\",\"type\":\"uint256\"}],\"internalType\":\"struct ISignatureTransfer.SignatureTransferDetails[]\",\"name\":\"transferDetails\",\"type\":\"tuple[]\"},{\"internalType\":\"address\",\"name\":\"owner\",\"type\":\"address\"},{\"internalType\":\"bytes\",\"name\":\"signature\",\"type\":\"bytes\"}],\"name\":\"permitTransferFrom\",\"outputs\":[],\"stateMutability\":\"nonpayable\",\"type\":\"function\"},{\"inputs\":[{\"components\":[{\"components\":[{\"internalType\":\"address\",\"name\":\"token\",\"type\":\"address\"},{\"internalType\":\"uint256\",\"name\":\"amount\",\"type\":\"uint256\"}],\"internalType\":\"struct ISignatureTransfer.TokenPermissions\",\"name\":\"permitted\",\"type\":\"tuple\"},{\"internalType\":\"uint256\",\"name\":\"nonce\",\"type\":\"uint256\"},{\"internalType\":\"uint256\",\"name\":\"deadline\",\"type\":\"uint256\"}],\"internalType\":\"struct ISignatureTransfer.PermitTransferFrom\",\"name\":\"permit\",\"type\":\"tuple\"},{\"components\":[{\"internalType\":\"address\",\"name\":\"to\",\"type\":\"address\"},{\"internalType\":\"uint256\",\"name\":\"requestedAmount\",\"type\":\"uint256\"}],\"internalType\":\"struct ISignatureTransfer.SignatureTransferDetails\",\"name\":\"transferDetails\",\"type\":\"tuple\"},{\"internalType\":\"address\",\"name\":\"owner\",\"type\":\"address\"},{\"internalType\":\"bytes32\",\"name\":\"witness\",\"type\":\"bytes32\"},{\"internalType\":\"string\",\"name\":\"witnessTypeString\",\"type\":\"string\"},{\"internalType\":\"bytes\",\"name\":\"signature\",\"type\":\"bytes\"}],\"name\":\"permitWitnessTransferFrom\",\"outputs\":[],\"stateMutability\":\"nonpayable\",\"type\":\"function\"},{\"inputs\":[{\"components\":[{\"components\":[{\"internalType\":\"address\",\"name\":\"token\",\"type\":\"address\"},{\"internalType\":\"uint256\",\"name\":\"amount\",\"type\":\"uint256\"}],\"internalType\":\"struct ISignatureTransfer.TokenPermissions[]\",\"name\":\"permitted\",\"type\":\"tuple[]\"},{\"internalType\":\"uint256\",\"name\":\"nonce\",\"type\":\"uint256\"},{\"internalType\":\"uint256\",\"name\":\"deadline\",\"type\":\"uint256\"}],\"internalType\":\"struct ISignatureTransfer.PermitBatchTransferFrom\",\"name\":\"permit\",\"type\":\"tuple\"},{\"components\":[{\"internalType\":\"address\",\"name\":\"to\",\"type\":\"address\"},{\"internalType\":\"uint256\",\"name\":\"requestedAmount\",\"type\":\"uint256\"}],\"internalType\":\"struct ISignatureTransfer.SignatureTransferDetails[]\",\"name\":\"transferDetails\",\"type\":\"tuple[]\"},{\"internalType\":\"address\",\"name\":\"owner\",\"type\":\"address\"},{\"internalType\":\"bytes32\",\"name\":\"witness\",\"type\":\"bytes32\"},{\"internalType\":\"string\",\"name\":\"witnessTypeString\",\"type\":\"string\"},{\"internalType\":\"bytes\",\"name\":\"signature\",\"type\":\"bytes\"}],\"name\":\"permitWitnessTransferFrom\",\"outputs\":[],\"stateMutability\":\"nonpayable\",\"type\":\"function\"},{\"inputs\":[{\"components\":[{\"internalType\":\"address\",\"name\":\"from\",\"type\":\"address\"},{\"internalType\":\"address\",\"name\":\"to\",\"type\":\"address\"},{\"internalType\":\"uint160\",\"name\":\"amount\",\"type\":\"uint160\"},{\"internalType\":\"address\",\"name\":\"token\",\"type\":\"address\"}],\"internalType\":\"struct IAllowanceTransfer.AllowanceTransferDetails[]\",\"name\":\"transferDetails\",\"type\":\"tuple[]\"}],\"name\":\"transferFrom\",\"outputs\":[],\"stateMutability\":\"nonpayable\",\"type\":\"function\"},{\"inputs\":[{\"internalType\":\"address\",\"name\":\"from\",\"type\":\"address\"},{\"internalType\":\"address\",\"name\":\"to\",\"type\":\"address\"},{\"internalType\":\"uint160\",\"name\":\"amount\",\"type\":\"uint160\"},{\"internalType\":\"address\",\"name\":\"token\",\"type\":\"address\"}],\"name\":\"transferFrom\",\"outputs\":[],\"stateMutability\":\"nonpayable\",\"type\":\"function\"}]'"
   ]
  },
  {
   "cell_type": "markdown",
   "id": "af752bfc",
   "metadata": {},
   "source": [
    "## Run approval for permit2"
   ]
  },
  {
   "cell_type": "code",
   "execution_count": 9,
   "id": "4be73bff",
   "metadata": {},
   "outputs": [
    {
     "name": "stdout",
     "output_type": "stream",
     "text": [
      "0x7509aefb0acf3e78871d67fde48de54099eb8684abae2a65910d61615ff9da21\n"
     ]
    }
   ],
   "source": [
    "from web3.gas_strategies.time_based import medium_gas_price_strategy\n",
    "def approve(token, abi_token, spender_address, wallet_address, private_key):\n",
    "\n",
    "    spender = spender_address\n",
    "    max_amount = w3.to_wei(2**64-1,'ether')\n",
    "    nonce = w3.eth.get_transaction_count(wallet_address)\n",
    "    w3.eth.set_gas_price_strategy(medium_gas_price_strategy)\n",
    "    \n",
    "    token_contract = w3.eth.contract(token,abi=abi_token)\n",
    "\n",
    "    tx = token_contract.functions.approve(spender, max_amount).build_transaction({\n",
    "        'from': wallet_address, \n",
    "        'nonce': nonce,\n",
    "        'gas':2000000,\n",
    "        'gasPrice': w3.eth.generate_gas_price()\n",
    "    })\n",
    "\n",
    "    signed_tx = w3.eth.account.sign_transaction(tx, private_key)\n",
    "    tx_hash = w3.eth.send_raw_transaction(signed_tx.rawTransaction)\n",
    "\n",
    "    return w3.to_hex(tx_hash)\n",
    "\n",
    "\n",
    "print(approve(ueth_token_address, abi_ueth, permit2_address, public_address, private_key))"
   ]
  },
  {
   "cell_type": "markdown",
   "id": "c406b71f",
   "metadata": {},
   "source": [
    "Wait for the transaction to be processed, and then approve ukd also"
   ]
  },
  {
   "cell_type": "code",
   "execution_count": null,
   "id": "ad710d5b",
   "metadata": {},
   "outputs": [],
   "source": [
    "print(approve(uhkd_token_address, abi_uhkd, permit2_address, public_address, private_key))"
   ]
  },
  {
   "cell_type": "markdown",
   "id": "f870a5f0",
   "metadata": {},
   "source": [
    "## Form the universal swap transaction"
   ]
  },
  {
   "cell_type": "markdown",
   "id": "434c5f1c",
   "metadata": {},
   "source": [
    "We now form swap transaction using universal router and v3_swap_exact_in"
   ]
  },
  {
   "cell_type": "markdown",
   "id": "a3db8845",
   "metadata": {},
   "source": [
    "First, we need to install Uniswap Universal Router Decoder & Encoder for encode and decode transaction params: \n",
    "```\n",
    "pip install uniswap-universal-router-decoder\n",
    "```\n"
   ]
  },
  {
   "cell_type": "markdown",
   "id": "1b4969ab",
   "metadata": {},
   "source": [
    "Next, we encode the transaction input data. The input data is the part of the transaction that will be executed by the UR smart contract, resulting in the actual swap. We’ll use the UR codec as follow:"
   ]
  },
  {
   "cell_type": "code",
   "execution_count": 17,
   "id": "a67ee27f",
   "metadata": {},
   "outputs": [],
   "source": [
    "amount_in = 1 * 10**18\n",
    "min_amount_out = 990386571102027908\n",
    "\n",
    "from uniswap_universal_router_decoder import FunctionRecipient, RouterCodec\n",
    "\n",
    "codec = RouterCodec()\n",
    "encoded_data = codec.encode.chain().v3_swap_exact_in(\n",
    "        FunctionRecipient.SENDER,  # the output tokens are sent to the transaction sender\n",
    "        amount_in,  # in Wei\n",
    "        min_amount_out,  # in Wei\n",
    "        [\n",
    "            ueth_token_address,  # checksum address of the token sent to the UR \n",
    "            3000,\n",
    "            uhkd_token_address,  # checksum address of the received token\n",
    "        ],\n",
    "    ).build(codec.get_default_deadline())  # unix timestamp after which the trx will not be valid any more"
   ]
  },
  {
   "cell_type": "markdown",
   "id": "98806e89",
   "metadata": {},
   "source": [
    "Some explanations\n",
    "Let’s breakdown the command:\n",
    "\n",
    "\n",
    "* encode : tells the codec we want to encode an input data (as opposed to decode).\n",
    "\n",
    "* chain() : the UR supports several commands chained in a single transaction. chain() initialises the chaining for one or more sub-commands.\n",
    "\n",
    "* v3_swap_exact_in() : Instruct the router to use a V3 pool with known input amount (1 ueth in this case).\n",
    "\n",
    "* FunctionRecipient.SENDER : the transaction’s sender will receive the output\n",
    "\n",
    "* min_amount_out: If the swap results in less that this amount of uhkd, the transaction will be reverted.\n",
    "\n",
    "* codec.get_default_deadline() : the timestamp after which the transaction will not be valid anymore.\n",
    "\n",
    "* build() : This method build and encode the transaction input data."
   ]
  },
  {
   "cell_type": "markdown",
   "id": "a90bfe94",
   "metadata": {},
   "source": [
    "We now send out the transaction after signing it."
   ]
  },
  {
   "cell_type": "code",
   "execution_count": 18,
   "id": "563d247a",
   "metadata": {},
   "outputs": [
    {
     "name": "stdout",
     "output_type": "stream",
     "text": [
      "Hash of swap transaction :  0xeddc757d4d873e3e0444ba6f9b89b6cfe2cefce7182947ac91b951d652b4de1f\n"
     ]
    }
   ],
   "source": [
    "trx_params = {\n",
    "        \"from\": public_address,\n",
    "        \"to\": router_address,\n",
    "        \"gas\": 500_000,\n",
    "        \"maxPriorityFeePerGas\": w3.eth.max_priority_fee,\n",
    "        \"maxFeePerGas\": 100 * 10**9,\n",
    "        \"type\": '0x2',\n",
    "        \"chainId\": 11155111,\n",
    "        \"nonce\": w3.eth.get_transaction_count(public_address),\n",
    "        \"data\": encoded_data,\n",
    "        }\n",
    "\n",
    "signed_txn = w3.eth.account.sign_transaction(trx_params, private_key)\n",
    "txn_hash = w3.eth.send_raw_transaction(signed_txn.rawTransaction)\n",
    "print(\"Hash of swap transaction : \",w3.to_hex(txn_hash))"
   ]
  },
  {
   "cell_type": "markdown",
   "id": "a183b80f",
   "metadata": {},
   "source": [
    "- Check the changes in token balances on metamask\n",
    "\n",
    "## Atomic swap transaction\n",
    "\n",
    "- We will use Uniswap's built in multicall function to invoke two swaps"
   ]
  },
  {
   "cell_type": "code",
   "execution_count": 21,
   "id": "09af2e0c",
   "metadata": {},
   "outputs": [
    {
     "name": "stdout",
     "output_type": "stream",
     "text": [
      "Hash of swap transaction :  0x96952b8a81520bcf782c1caeba4b283705c90fa2784f9f721938d561509f1c56\n"
     ]
    }
   ],
   "source": [
    "encoded_data2 = codec.encode.chain().v3_swap_exact_in(\n",
    "        FunctionRecipient.SENDER,  # the output tokens are sent to the transaction sender\n",
    "        amount_in,  # in Wei\n",
    "        min_amount_out,  # in Wei\n",
    "        [\n",
    "            ueth_token_address,  # checksum address of the token sent to the UR \n",
    "            3000,\n",
    "            uhkd_token_address,  # checksum address of the received token\n",
    "        ],\n",
    "    ).v3_swap_exact_in(\n",
    "        FunctionRecipient.SENDER,  # the output tokens are sent to the transaction sender\n",
    "        amount_in,  # in Wei\n",
    "        min_amount_out,  # in Wei\n",
    "        [\n",
    "            uhkd_token_address,  # checksum address of the token sent to the UR \n",
    "            3000,\n",
    "            ueth_token_address,  # checksum address of the received token\n",
    "        ],\n",
    "    ).build(codec.get_default_deadline())  # unix timestamp after which the trx will not be valid any more\n",
    "\n",
    "trx_params = {\n",
    "        \"from\": public_address,\n",
    "        \"to\": router_address,\n",
    "        \"gas\": 500_000,\n",
    "        \"maxPriorityFeePerGas\": w3.eth.max_priority_fee,\n",
    "        \"maxFeePerGas\": 100 * 10**9,\n",
    "        \"type\": '0x2',\n",
    "        \"chainId\": 11155111,\n",
    "        \"nonce\": w3.eth.get_transaction_count(public_address)+1,\n",
    "        \"data\": encoded_data2,\n",
    "        }\n",
    "\n",
    "signed_txn = w3.eth.account.sign_transaction(trx_params, private_key)\n",
    "txn_hash = w3.eth.send_raw_transaction(signed_txn.rawTransaction)\n",
    "print(\"Hash of swap transaction : \",w3.to_hex(txn_hash))"
   ]
  },
  {
   "cell_type": "markdown",
   "id": "fd838bfb",
   "metadata": {},
   "source": [
    "- Observe the token transfers on etherscan. You should see two sets of transfers"
   ]
  },
  {
   "cell_type": "markdown",
   "id": "1f1438f5",
   "metadata": {},
   "source": [
    "references:\n",
    "\n",
    "* https://github.com/Uniswap/universal-router\n",
    "* https://blog.uniswap.org/permit2-and-universal-router\n",
    "* https://twitter.com/Uniswap/status/1661362297632088066\n",
    "* https://github.com/Elnaril/uniswap-universal-router-decoder/tree/master"
   ]
  },
  {
   "cell_type": "markdown",
   "id": "7ce21739",
   "metadata": {},
   "source": [
    "# Optional: Atomic swap transaction on Balancer\n",
    "\n",
    "## Initialize the Balancer Vault\n",
    "Balancer V2 has the same address on all networks it has been deployed."
   ]
  },
  {
   "cell_type": "code",
   "execution_count": null,
   "id": "43417d37",
   "metadata": {},
   "outputs": [],
   "source": [
    "vault_address = Web3.toChecksumAddress('0xBA12222222228d8Ba445958a75a0704d566BF2C8')\n",
    "abi_vault = '[{\"inputs\":[{\"internalType\":\"contract IAuthorizer\",\"name\":\"authorizer\",\"type\":\"address\"},{\"internalType\":\"contract IWETH\",\"name\":\"weth\",\"type\":\"address\"},{\"internalType\":\"uint256\",\"name\":\"pauseWindowDuration\",\"type\":\"uint256\"},{\"internalType\":\"uint256\",\"name\":\"bufferPeriodDuration\",\"type\":\"uint256\"}],\"stateMutability\":\"nonpayable\",\"type\":\"constructor\"},{\"anonymous\":false,\"inputs\":[{\"indexed\":true,\"internalType\":\"contract IAuthorizer\",\"name\":\"newAuthorizer\",\"type\":\"address\"}],\"name\":\"AuthorizerChanged\",\"type\":\"event\"},{\"anonymous\":false,\"inputs\":[{\"indexed\":true,\"internalType\":\"contract IERC20\",\"name\":\"token\",\"type\":\"address\"},{\"indexed\":true,\"internalType\":\"address\",\"name\":\"sender\",\"type\":\"address\"},{\"indexed\":false,\"internalType\":\"address\",\"name\":\"recipient\",\"type\":\"address\"},{\"indexed\":false,\"internalType\":\"uint256\",\"name\":\"amount\",\"type\":\"uint256\"}],\"name\":\"ExternalBalanceTransfer\",\"type\":\"event\"},{\"anonymous\":false,\"inputs\":[{\"indexed\":true,\"internalType\":\"contract IFlashLoanRecipient\",\"name\":\"recipient\",\"type\":\"address\"},{\"indexed\":true,\"internalType\":\"contract IERC20\",\"name\":\"token\",\"type\":\"address\"},{\"indexed\":false,\"internalType\":\"uint256\",\"name\":\"amount\",\"type\":\"uint256\"},{\"indexed\":false,\"internalType\":\"uint256\",\"name\":\"feeAmount\",\"type\":\"uint256\"}],\"name\":\"FlashLoan\",\"type\":\"event\"},{\"anonymous\":false,\"inputs\":[{\"indexed\":true,\"internalType\":\"address\",\"name\":\"user\",\"type\":\"address\"},{\"indexed\":true,\"internalType\":\"contract IERC20\",\"name\":\"token\",\"type\":\"address\"},{\"indexed\":false,\"internalType\":\"int256\",\"name\":\"delta\",\"type\":\"int256\"}],\"name\":\"InternalBalanceChanged\",\"type\":\"event\"},{\"anonymous\":false,\"inputs\":[{\"indexed\":false,\"internalType\":\"bool\",\"name\":\"paused\",\"type\":\"bool\"}],\"name\":\"PausedStateChanged\",\"type\":\"event\"},{\"anonymous\":false,\"inputs\":[{\"indexed\":true,\"internalType\":\"bytes32\",\"name\":\"poolId\",\"type\":\"bytes32\"},{\"indexed\":true,\"internalType\":\"address\",\"name\":\"liquidityProvider\",\"type\":\"address\"},{\"indexed\":false,\"internalType\":\"contract IERC20[]\",\"name\":\"tokens\",\"type\":\"address[]\"},{\"indexed\":false,\"internalType\":\"int256[]\",\"name\":\"deltas\",\"type\":\"int256[]\"},{\"indexed\":false,\"internalType\":\"uint256[]\",\"name\":\"protocolFeeAmounts\",\"type\":\"uint256[]\"}],\"name\":\"PoolBalanceChanged\",\"type\":\"event\"},{\"anonymous\":false,\"inputs\":[{\"indexed\":true,\"internalType\":\"bytes32\",\"name\":\"poolId\",\"type\":\"bytes32\"},{\"indexed\":true,\"internalType\":\"address\",\"name\":\"assetManager\",\"type\":\"address\"},{\"indexed\":true,\"internalType\":\"contract IERC20\",\"name\":\"token\",\"type\":\"address\"},{\"indexed\":false,\"internalType\":\"int256\",\"name\":\"cashDelta\",\"type\":\"int256\"},{\"indexed\":false,\"internalType\":\"int256\",\"name\":\"managedDelta\",\"type\":\"int256\"}],\"name\":\"PoolBalanceManaged\",\"type\":\"event\"},{\"anonymous\":false,\"inputs\":[{\"indexed\":true,\"internalType\":\"bytes32\",\"name\":\"poolId\",\"type\":\"bytes32\"},{\"indexed\":true,\"internalType\":\"address\",\"name\":\"poolAddress\",\"type\":\"address\"},{\"indexed\":false,\"internalType\":\"enum IVault.PoolSpecialization\",\"name\":\"specialization\",\"type\":\"uint8\"}],\"name\":\"PoolRegistered\",\"type\":\"event\"},{\"anonymous\":false,\"inputs\":[{\"indexed\":true,\"internalType\":\"address\",\"name\":\"relayer\",\"type\":\"address\"},{\"indexed\":true,\"internalType\":\"address\",\"name\":\"sender\",\"type\":\"address\"},{\"indexed\":false,\"internalType\":\"bool\",\"name\":\"approved\",\"type\":\"bool\"}],\"name\":\"RelayerApprovalChanged\",\"type\":\"event\"},{\"anonymous\":false,\"inputs\":[{\"indexed\":true,\"internalType\":\"bytes32\",\"name\":\"poolId\",\"type\":\"bytes32\"},{\"indexed\":true,\"internalType\":\"contract IERC20\",\"name\":\"tokenIn\",\"type\":\"address\"},{\"indexed\":true,\"internalType\":\"contract IERC20\",\"name\":\"tokenOut\",\"type\":\"address\"},{\"indexed\":false,\"internalType\":\"uint256\",\"name\":\"amountIn\",\"type\":\"uint256\"},{\"indexed\":false,\"internalType\":\"uint256\",\"name\":\"amountOut\",\"type\":\"uint256\"}],\"name\":\"Swap\",\"type\":\"event\"},{\"anonymous\":false,\"inputs\":[{\"indexed\":true,\"internalType\":\"bytes32\",\"name\":\"poolId\",\"type\":\"bytes32\"},{\"indexed\":false,\"internalType\":\"contract IERC20[]\",\"name\":\"tokens\",\"type\":\"address[]\"}],\"name\":\"TokensDeregistered\",\"type\":\"event\"},{\"anonymous\":false,\"inputs\":[{\"indexed\":true,\"internalType\":\"bytes32\",\"name\":\"poolId\",\"type\":\"bytes32\"},{\"indexed\":false,\"internalType\":\"contract IERC20[]\",\"name\":\"tokens\",\"type\":\"address[]\"},{\"indexed\":false,\"internalType\":\"address[]\",\"name\":\"assetManagers\",\"type\":\"address[]\"}],\"name\":\"TokensRegistered\",\"type\":\"event\"},{\"inputs\":[],\"name\":\"WETH\",\"outputs\":[{\"internalType\":\"contract IWETH\",\"name\":\"\",\"type\":\"address\"}],\"stateMutability\":\"view\",\"type\":\"function\"},{\"inputs\":[{\"internalType\":\"enum IVault.SwapKind\",\"name\":\"kind\",\"type\":\"uint8\"},{\"components\":[{\"internalType\":\"bytes32\",\"name\":\"poolId\",\"type\":\"bytes32\"},{\"internalType\":\"uint256\",\"name\":\"assetInIndex\",\"type\":\"uint256\"},{\"internalType\":\"uint256\",\"name\":\"assetOutIndex\",\"type\":\"uint256\"},{\"internalType\":\"uint256\",\"name\":\"amount\",\"type\":\"uint256\"},{\"internalType\":\"bytes\",\"name\":\"userData\",\"type\":\"bytes\"}],\"internalType\":\"struct IVault.BatchSwapStep[]\",\"name\":\"swaps\",\"type\":\"tuple[]\"},{\"internalType\":\"contract IAsset[]\",\"name\":\"assets\",\"type\":\"address[]\"},{\"components\":[{\"internalType\":\"address\",\"name\":\"sender\",\"type\":\"address\"},{\"internalType\":\"bool\",\"name\":\"fromInternalBalance\",\"type\":\"bool\"},{\"internalType\":\"address payable\",\"name\":\"recipient\",\"type\":\"address\"},{\"internalType\":\"bool\",\"name\":\"toInternalBalance\",\"type\":\"bool\"}],\"internalType\":\"struct IVault.FundManagement\",\"name\":\"funds\",\"type\":\"tuple\"},{\"internalType\":\"int256[]\",\"name\":\"limits\",\"type\":\"int256[]\"},{\"internalType\":\"uint256\",\"name\":\"deadline\",\"type\":\"uint256\"}],\"name\":\"batchSwap\",\"outputs\":[{\"internalType\":\"int256[]\",\"name\":\"assetDeltas\",\"type\":\"int256[]\"}],\"stateMutability\":\"payable\",\"type\":\"function\"},{\"inputs\":[{\"internalType\":\"bytes32\",\"name\":\"poolId\",\"type\":\"bytes32\"},{\"internalType\":\"contract IERC20[]\",\"name\":\"tokens\",\"type\":\"address[]\"}],\"name\":\"deregisterTokens\",\"outputs\":[],\"stateMutability\":\"nonpayable\",\"type\":\"function\"},{\"inputs\":[{\"internalType\":\"bytes32\",\"name\":\"poolId\",\"type\":\"bytes32\"},{\"internalType\":\"address\",\"name\":\"sender\",\"type\":\"address\"},{\"internalType\":\"address payable\",\"name\":\"recipient\",\"type\":\"address\"},{\"components\":[{\"internalType\":\"contract IAsset[]\",\"name\":\"assets\",\"type\":\"address[]\"},{\"internalType\":\"uint256[]\",\"name\":\"minAmountsOut\",\"type\":\"uint256[]\"},{\"internalType\":\"bytes\",\"name\":\"userData\",\"type\":\"bytes\"},{\"internalType\":\"bool\",\"name\":\"toInternalBalance\",\"type\":\"bool\"}],\"internalType\":\"struct IVault.ExitPoolRequest\",\"name\":\"request\",\"type\":\"tuple\"}],\"name\":\"exitPool\",\"outputs\":[],\"stateMutability\":\"nonpayable\",\"type\":\"function\"},{\"inputs\":[{\"internalType\":\"contract IFlashLoanRecipient\",\"name\":\"recipient\",\"type\":\"address\"},{\"internalType\":\"contract IERC20[]\",\"name\":\"tokens\",\"type\":\"address[]\"},{\"internalType\":\"uint256[]\",\"name\":\"amounts\",\"type\":\"uint256[]\"},{\"internalType\":\"bytes\",\"name\":\"userData\",\"type\":\"bytes\"}],\"name\":\"flashLoan\",\"outputs\":[],\"stateMutability\":\"nonpayable\",\"type\":\"function\"},{\"inputs\":[{\"internalType\":\"bytes4\",\"name\":\"selector\",\"type\":\"bytes4\"}],\"name\":\"getActionId\",\"outputs\":[{\"internalType\":\"bytes32\",\"name\":\"\",\"type\":\"bytes32\"}],\"stateMutability\":\"view\",\"type\":\"function\"},{\"inputs\":[],\"name\":\"getAuthorizer\",\"outputs\":[{\"internalType\":\"contract IAuthorizer\",\"name\":\"\",\"type\":\"address\"}],\"stateMutability\":\"view\",\"type\":\"function\"},{\"inputs\":[],\"name\":\"getDomainSeparator\",\"outputs\":[{\"internalType\":\"bytes32\",\"name\":\"\",\"type\":\"bytes32\"}],\"stateMutability\":\"view\",\"type\":\"function\"},{\"inputs\":[{\"internalType\":\"address\",\"name\":\"user\",\"type\":\"address\"},{\"internalType\":\"contract IERC20[]\",\"name\":\"tokens\",\"type\":\"address[]\"}],\"name\":\"getInternalBalance\",\"outputs\":[{\"internalType\":\"uint256[]\",\"name\":\"balances\",\"type\":\"uint256[]\"}],\"stateMutability\":\"view\",\"type\":\"function\"},{\"inputs\":[{\"internalType\":\"address\",\"name\":\"user\",\"type\":\"address\"}],\"name\":\"getNextNonce\",\"outputs\":[{\"internalType\":\"uint256\",\"name\":\"\",\"type\":\"uint256\"}],\"stateMutability\":\"view\",\"type\":\"function\"},{\"inputs\":[],\"name\":\"getPausedState\",\"outputs\":[{\"internalType\":\"bool\",\"name\":\"paused\",\"type\":\"bool\"},{\"internalType\":\"uint256\",\"name\":\"pauseWindowEndTime\",\"type\":\"uint256\"},{\"internalType\":\"uint256\",\"name\":\"bufferPeriodEndTime\",\"type\":\"uint256\"}],\"stateMutability\":\"view\",\"type\":\"function\"},{\"inputs\":[{\"internalType\":\"bytes32\",\"name\":\"poolId\",\"type\":\"bytes32\"}],\"name\":\"getPool\",\"outputs\":[{\"internalType\":\"address\",\"name\":\"\",\"type\":\"address\"},{\"internalType\":\"enum IVault.PoolSpecialization\",\"name\":\"\",\"type\":\"uint8\"}],\"stateMutability\":\"view\",\"type\":\"function\"},{\"inputs\":[{\"internalType\":\"bytes32\",\"name\":\"poolId\",\"type\":\"bytes32\"},{\"internalType\":\"contract IERC20\",\"name\":\"token\",\"type\":\"address\"}],\"name\":\"getPoolTokenInfo\",\"outputs\":[{\"internalType\":\"uint256\",\"name\":\"cash\",\"type\":\"uint256\"},{\"internalType\":\"uint256\",\"name\":\"managed\",\"type\":\"uint256\"},{\"internalType\":\"uint256\",\"name\":\"lastChangeBlock\",\"type\":\"uint256\"},{\"internalType\":\"address\",\"name\":\"assetManager\",\"type\":\"address\"}],\"stateMutability\":\"view\",\"type\":\"function\"},{\"inputs\":[{\"internalType\":\"bytes32\",\"name\":\"poolId\",\"type\":\"bytes32\"}],\"name\":\"getPoolTokens\",\"outputs\":[{\"internalType\":\"contract IERC20[]\",\"name\":\"tokens\",\"type\":\"address[]\"},{\"internalType\":\"uint256[]\",\"name\":\"balances\",\"type\":\"uint256[]\"},{\"internalType\":\"uint256\",\"name\":\"lastChangeBlock\",\"type\":\"uint256\"}],\"stateMutability\":\"view\",\"type\":\"function\"},{\"inputs\":[],\"name\":\"getProtocolFeesCollector\",\"outputs\":[{\"internalType\":\"contract ProtocolFeesCollector\",\"name\":\"\",\"type\":\"address\"}],\"stateMutability\":\"view\",\"type\":\"function\"},{\"inputs\":[{\"internalType\":\"address\",\"name\":\"user\",\"type\":\"address\"},{\"internalType\":\"address\",\"name\":\"relayer\",\"type\":\"address\"}],\"name\":\"hasApprovedRelayer\",\"outputs\":[{\"internalType\":\"bool\",\"name\":\"\",\"type\":\"bool\"}],\"stateMutability\":\"view\",\"type\":\"function\"},{\"inputs\":[{\"internalType\":\"bytes32\",\"name\":\"poolId\",\"type\":\"bytes32\"},{\"internalType\":\"address\",\"name\":\"sender\",\"type\":\"address\"},{\"internalType\":\"address\",\"name\":\"recipient\",\"type\":\"address\"},{\"components\":[{\"internalType\":\"contract IAsset[]\",\"name\":\"assets\",\"type\":\"address[]\"},{\"internalType\":\"uint256[]\",\"name\":\"maxAmountsIn\",\"type\":\"uint256[]\"},{\"internalType\":\"bytes\",\"name\":\"userData\",\"type\":\"bytes\"},{\"internalType\":\"bool\",\"name\":\"fromInternalBalance\",\"type\":\"bool\"}],\"internalType\":\"struct IVault.JoinPoolRequest\",\"name\":\"request\",\"type\":\"tuple\"}],\"name\":\"joinPool\",\"outputs\":[],\"stateMutability\":\"payable\",\"type\":\"function\"},{\"inputs\":[{\"components\":[{\"internalType\":\"enum IVault.PoolBalanceOpKind\",\"name\":\"kind\",\"type\":\"uint8\"},{\"internalType\":\"bytes32\",\"name\":\"poolId\",\"type\":\"bytes32\"},{\"internalType\":\"contract IERC20\",\"name\":\"token\",\"type\":\"address\"},{\"internalType\":\"uint256\",\"name\":\"amount\",\"type\":\"uint256\"}],\"internalType\":\"struct IVault.PoolBalanceOp[]\",\"name\":\"ops\",\"type\":\"tuple[]\"}],\"name\":\"managePoolBalance\",\"outputs\":[],\"stateMutability\":\"nonpayable\",\"type\":\"function\"},{\"inputs\":[{\"components\":[{\"internalType\":\"enum IVault.UserBalanceOpKind\",\"name\":\"kind\",\"type\":\"uint8\"},{\"internalType\":\"contract IAsset\",\"name\":\"asset\",\"type\":\"address\"},{\"internalType\":\"uint256\",\"name\":\"amount\",\"type\":\"uint256\"},{\"internalType\":\"address\",\"name\":\"sender\",\"type\":\"address\"},{\"internalType\":\"address payable\",\"name\":\"recipient\",\"type\":\"address\"}],\"internalType\":\"struct IVault.UserBalanceOp[]\",\"name\":\"ops\",\"type\":\"tuple[]\"}],\"name\":\"manageUserBalance\",\"outputs\":[],\"stateMutability\":\"payable\",\"type\":\"function\"},{\"inputs\":[{\"internalType\":\"enum IVault.SwapKind\",\"name\":\"kind\",\"type\":\"uint8\"},{\"components\":[{\"internalType\":\"bytes32\",\"name\":\"poolId\",\"type\":\"bytes32\"},{\"internalType\":\"uint256\",\"name\":\"assetInIndex\",\"type\":\"uint256\"},{\"internalType\":\"uint256\",\"name\":\"assetOutIndex\",\"type\":\"uint256\"},{\"internalType\":\"uint256\",\"name\":\"amount\",\"type\":\"uint256\"},{\"internalType\":\"bytes\",\"name\":\"userData\",\"type\":\"bytes\"}],\"internalType\":\"struct IVault.BatchSwapStep[]\",\"name\":\"swaps\",\"type\":\"tuple[]\"},{\"internalType\":\"contract IAsset[]\",\"name\":\"assets\",\"type\":\"address[]\"},{\"components\":[{\"internalType\":\"address\",\"name\":\"sender\",\"type\":\"address\"},{\"internalType\":\"bool\",\"name\":\"fromInternalBalance\",\"type\":\"bool\"},{\"internalType\":\"address payable\",\"name\":\"recipient\",\"type\":\"address\"},{\"internalType\":\"bool\",\"name\":\"toInternalBalance\",\"type\":\"bool\"}],\"internalType\":\"struct IVault.FundManagement\",\"name\":\"funds\",\"type\":\"tuple\"}],\"name\":\"queryBatchSwap\",\"outputs\":[{\"internalType\":\"int256[]\",\"name\":\"\",\"type\":\"int256[]\"}],\"stateMutability\":\"nonpayable\",\"type\":\"function\"},{\"inputs\":[{\"internalType\":\"enum IVault.PoolSpecialization\",\"name\":\"specialization\",\"type\":\"uint8\"}],\"name\":\"registerPool\",\"outputs\":[{\"internalType\":\"bytes32\",\"name\":\"\",\"type\":\"bytes32\"}],\"stateMutability\":\"nonpayable\",\"type\":\"function\"},{\"inputs\":[{\"internalType\":\"bytes32\",\"name\":\"poolId\",\"type\":\"bytes32\"},{\"internalType\":\"contract IERC20[]\",\"name\":\"tokens\",\"type\":\"address[]\"},{\"internalType\":\"address[]\",\"name\":\"assetManagers\",\"type\":\"address[]\"}],\"name\":\"registerTokens\",\"outputs\":[],\"stateMutability\":\"nonpayable\",\"type\":\"function\"},{\"inputs\":[{\"internalType\":\"contract IAuthorizer\",\"name\":\"newAuthorizer\",\"type\":\"address\"}],\"name\":\"setAuthorizer\",\"outputs\":[],\"stateMutability\":\"nonpayable\",\"type\":\"function\"},{\"inputs\":[{\"internalType\":\"bool\",\"name\":\"paused\",\"type\":\"bool\"}],\"name\":\"setPaused\",\"outputs\":[],\"stateMutability\":\"nonpayable\",\"type\":\"function\"},{\"inputs\":[{\"internalType\":\"address\",\"name\":\"sender\",\"type\":\"address\"},{\"internalType\":\"address\",\"name\":\"relayer\",\"type\":\"address\"},{\"internalType\":\"bool\",\"name\":\"approved\",\"type\":\"bool\"}],\"name\":\"setRelayerApproval\",\"outputs\":[],\"stateMutability\":\"nonpayable\",\"type\":\"function\"},{\"inputs\":[{\"components\":[{\"internalType\":\"bytes32\",\"name\":\"poolId\",\"type\":\"bytes32\"},{\"internalType\":\"enum IVault.SwapKind\",\"name\":\"kind\",\"type\":\"uint8\"},{\"internalType\":\"contract IAsset\",\"name\":\"assetIn\",\"type\":\"address\"},{\"internalType\":\"contract IAsset\",\"name\":\"assetOut\",\"type\":\"address\"},{\"internalType\":\"uint256\",\"name\":\"amount\",\"type\":\"uint256\"},{\"internalType\":\"bytes\",\"name\":\"userData\",\"type\":\"bytes\"}],\"internalType\":\"struct IVault.SingleSwap\",\"name\":\"singleSwap\",\"type\":\"tuple\"},{\"components\":[{\"internalType\":\"address\",\"name\":\"sender\",\"type\":\"address\"},{\"internalType\":\"bool\",\"name\":\"fromInternalBalance\",\"type\":\"bool\"},{\"internalType\":\"address payable\",\"name\":\"recipient\",\"type\":\"address\"},{\"internalType\":\"bool\",\"name\":\"toInternalBalance\",\"type\":\"bool\"}],\"internalType\":\"struct IVault.FundManagement\",\"name\":\"funds\",\"type\":\"tuple\"},{\"internalType\":\"uint256\",\"name\":\"limit\",\"type\":\"uint256\"},{\"internalType\":\"uint256\",\"name\":\"deadline\",\"type\":\"uint256\"}],\"name\":\"swap\",\"outputs\":[{\"internalType\":\"uint256\",\"name\":\"amountCalculated\",\"type\":\"uint256\"}],\"stateMutability\":\"payable\",\"type\":\"function\"},{\"stateMutability\":\"payable\",\"type\":\"receive\"}]'\n",
    "\n",
    "contract_vault = w3.eth.contract( vault_address, abi=abi_vault)\n",
    "\n",
    "# Pool Addresses\n",
    "pool_BAL_WETH = \"0xf8a0623ab66f985effc1c69d05f1af4badb01b00000200000000000000000060\"\n",
    "pool_WETH_USDC = \"0x9f1f16b025f703ee985b58ced48daf93dad2f7ef000200000000000000000063\"\n",
    "\n",
    "# Token Addresses in string, formatted for balancer smart contract\n",
    "token_BAL \t= \"0xfA8449189744799aD2AcE7e0EBAC8BB7575eff47\".lower()\n",
    "token_WETH \t= \"0xdFCeA9088c8A88A76FF74892C1457C17dfeef9C1\".lower()\n",
    "token_USDC \t= \"0xe0C9275E44Ea80eF17579d33c55136b7DA269aEb\".lower()\n",
    "\n",
    "# Token Addresses in address form\n",
    "USDC_token_address \t= Web3.toChecksumAddress(\"0xe0C9275E44Ea80eF17579d33c55136b7DA269aEb\")\n",
    "\n",
    "# Token ABI\n",
    "abi_token = '[{\"constant\":true,\"inputs\":[],\"name\":\"name\",\"outputs\":[{\"name\":\"\",\"type\":\"string\"}],\"payable\":false,\"stateMutability\":\"view\",\"type\":\"function\"},{\"constant\":false,\"inputs\":[{\"name\":\"_spender\",\"type\":\"address\"},{\"name\":\"_value\",\"type\":\"uint256\"}],\"name\":\"approve\",\"outputs\":[{\"name\":\"\",\"type\":\"bool\"}],\"payable\":false,\"stateMutability\":\"nonpayable\",\"type\":\"function\"},{\"constant\":true,\"inputs\":[],\"name\":\"totalSupply\",\"outputs\":[{\"name\":\"\",\"type\":\"uint256\"}],\"payable\":false,\"stateMutability\":\"view\",\"type\":\"function\"},{\"constant\":false,\"inputs\":[{\"name\":\"_from\",\"type\":\"address\"},{\"name\":\"_to\",\"type\":\"address\"},{\"name\":\"_value\",\"type\":\"uint256\"}],\"name\":\"transferFrom\",\"outputs\":[{\"name\":\"\",\"type\":\"bool\"}],\"payable\":false,\"stateMutability\":\"nonpayable\",\"type\":\"function\"},{\"constant\":true,\"inputs\":[],\"name\":\"decimals\",\"outputs\":[{\"name\":\"\",\"type\":\"uint8\"}],\"payable\":false,\"stateMutability\":\"view\",\"type\":\"function\"},{\"constant\":true,\"inputs\":[{\"name\":\"_owner\",\"type\":\"address\"}],\"name\":\"balanceOf\",\"outputs\":[{\"name\":\"balance\",\"type\":\"uint256\"}],\"payable\":false,\"stateMutability\":\"view\",\"type\":\"function\"},{\"constant\":true,\"inputs\":[],\"name\":\"symbol\",\"outputs\":[{\"name\":\"\",\"type\":\"string\"}],\"payable\":false,\"stateMutability\":\"view\",\"type\":\"function\"},{\"constant\":false,\"inputs\":[{\"name\":\"_to\",\"type\":\"address\"},{\"name\":\"_value\",\"type\":\"uint256\"}],\"name\":\"transfer\",\"outputs\":[{\"name\":\"\",\"type\":\"bool\"}],\"payable\":false,\"stateMutability\":\"nonpayable\",\"type\":\"function\"},{\"constant\":true,\"inputs\":[{\"name\":\"_owner\",\"type\":\"address\"},{\"name\":\"_spender\",\"type\":\"address\"}],\"name\":\"allowance\",\"outputs\":[{\"name\":\"\",\"type\":\"uint256\"}],\"payable\":false,\"stateMutability\":\"view\",\"type\":\"function\"},{\"payable\":true,\"stateMutability\":\"payable\",\"type\":\"fallback\"},{\"anonymous\":false,\"inputs\":[{\"indexed\":true,\"name\":\"owner\",\"type\":\"address\"},{\"indexed\":true,\"name\":\"spender\",\"type\":\"address\"},{\"indexed\":false,\"name\":\"value\",\"type\":\"uint256\"}],\"name\":\"Approval\",\"type\":\"event\"},{\"anonymous\":false,\"inputs\":[{\"indexed\":true,\"name\":\"from\",\"type\":\"address\"},{\"indexed\":true,\"name\":\"to\",\"type\":\"address\"},{\"indexed\":false,\"name\":\"value\",\"type\":\"uint256\"}],\"name\":\"Transfer\",\"type\":\"event\"}]'"
   ]
  },
  {
   "cell_type": "markdown",
   "id": "4a0c3a40",
   "metadata": {},
   "source": [
    "## Approve the Balancer Contract\n",
    "Like before, write a function that approves smart contracts to use the funds in our account. Because we know how the smart contract would behave exactly, we can trust it with our funds."
   ]
  },
  {
   "cell_type": "code",
   "execution_count": null,
   "id": "5ee6f4a1",
   "metadata": {},
   "outputs": [],
   "source": [
    "from web3.gas_strategies.time_based import medium_gas_price_strategy\n",
    "\n",
    "def approve(token, abi_token, spender_address, wallet_address, private_key):\n",
    "\n",
    "    spender = spender_address\n",
    "    max_amount = w3.toWei(2**64-1,'ether')\n",
    "    nonce = w3.eth.getTransactionCount(wallet_address)\n",
    "    w3.eth.set_gas_price_strategy(medium_gas_price_strategy)\n",
    "    \n",
    "    token_contract = w3.eth.contract(token,abi=abi_token)\n",
    "\n",
    "    tx = token_contract.functions.approve(spender, max_amount).buildTransaction({\n",
    "        'from': wallet_address, \n",
    "        'nonce': nonce,\n",
    "        'gas':2000000,\n",
    "        'gasPrice': 2*w3.eth.generate_gas_price()\n",
    "    })\n",
    "\n",
    "    signed_tx = w3.eth.account.signTransaction(tx, private_key)\n",
    "    tx_hash = w3.eth.sendRawTransaction(signed_tx.rawTransaction)\n",
    "\n",
    "    return w3.toHex(tx_hash)"
   ]
  },
  {
   "cell_type": "code",
   "execution_count": null,
   "id": "d232a053",
   "metadata": {},
   "outputs": [],
   "source": [
    "# The swapper router is the same as the vault\n",
    "print(approve(USDC_token_address, abi_token, vault_address, public_address, private_key))\n",
    "# Token Addresses in address form\n",
    "USDC_token_address \t= Web3.toChecksumAddress(\"0xe0C9275E44Ea80eF17579d33c55136b7DA269aEb\")"
   ]
  },
  {
   "cell_type": "markdown",
   "id": "1b700eff",
   "metadata": {},
   "source": [
    "### Establish Parameters"
   ]
  },
  {
   "cell_type": "code",
   "execution_count": null,
   "id": "b8adc1fb",
   "metadata": {},
   "outputs": [],
   "source": [
    "# Where are the tokens coming from/going to?\n",
    "fund_settings = {\n",
    "\t\"sender\":\t\t\t\tpublic_address,\t# Me\n",
    "\t\"recipient\":\t\t\tpublic_address,\t# Me\n",
    "\t\"fromInternalBalance\": \tFalse,\n",
    "\t\"toInternalBalance\": \tFalse\n",
    "}\n",
    "\n",
    "# When should the transaction timeout?\n",
    "deadline = 999999999999999999"
   ]
  },
  {
   "cell_type": "code",
   "execution_count": null,
   "id": "2a560ca6",
   "metadata": {},
   "outputs": [],
   "source": [
    "token_data = {\n",
    "\ttoken_BAL:{\n",
    "\t\t\"symbol\":\"BAL\",\n",
    "\t\t\"decimals\":\"18\", #Decimal of smallest unit\n",
    "\t\t\"limit\":\"0\"\n",
    "\t},\n",
    "\ttoken_USDC:{\n",
    "\t\t\"symbol\":\"USDC\",\n",
    "\t\t\"decimals\":\"6\",\n",
    "\t\t\"limit\":\"100\"\n",
    "\t},\n",
    "\ttoken_WETH:{\n",
    "\t\t\"symbol\":\"WETH\",\n",
    "\t\t\"decimals\":\"18\",\n",
    "\t\t\"limit\":\"0\"\n",
    "\t}\n",
    "}\n",
    "\n",
    "swap_steps = [\n",
    "\t{\n",
    "\t\t\"poolId\":pool_WETH_USDC,\n",
    "\t\t\"assetIn\":token_USDC,\n",
    "\t\t\"assetOut\":token_WETH,\n",
    "\t\t\"amount\": \"100\"\n",
    "\t},\n",
    "\t{\n",
    "\t\t\"poolId\":pool_BAL_WETH,\n",
    "\t\t\"assetIn\":token_WETH,\n",
    "\t\t\"assetOut\":token_BAL,\n",
    "\t\t\"amount\":\"0\"\n",
    "\t}\n",
    "]\n",
    "\n",
    "swap_kind = 0 #0 = GIVEN_IN, 1 = GIVEN_OUT"
   ]
  },
  {
   "cell_type": "markdown",
   "id": "90852abe",
   "metadata": {},
   "source": [
    "### Token Ordering\n",
    "Each pool stores its tokens sorted numerically. Because of this, we will need to sort our token lists when interacting with pools. When calling the contract, we must refer to the tokens by their index in this sorted list. The token_indicies line creates a dictionary that gives each token's index in a sorted list to simplify bookkeeping."
   ]
  },
  {
   "cell_type": "code",
   "execution_count": null,
   "id": "0fac6267",
   "metadata": {},
   "outputs": [],
   "source": [
    "token_addresses = list(token_data.keys())\n",
    "token_addresses.sort()\n",
    "token_indices = {token_addresses[idx]:idx for idx in range(len(token_addresses))}"
   ]
  },
  {
   "cell_type": "code",
   "execution_count": null,
   "id": "1959384d",
   "metadata": {},
   "outputs": [],
   "source": [
    "import eth_abi\n",
    "from decimal import *\n",
    "\n",
    "user_data_encoded = eth_abi.encode_abi(['uint256'], [0])\n",
    "swaps_step_structs = []\n",
    "for step in swap_steps:\n",
    "\tswaps_step_struct = (\n",
    "\t\tstep[\"poolId\"],\n",
    "\t\ttoken_indices[step[\"assetIn\"]],\n",
    "\t\ttoken_indices[step[\"assetOut\"]],\n",
    "\t\tint(Decimal(step[\"amount\"]) * 10 ** Decimal((token_data[step[\"assetIn\"]][\"decimals\"]))),\n",
    "\t\tuser_data_encoded\n",
    "\t)\n",
    "\tswaps_step_structs.append(swaps_step_struct)\n",
    "\n",
    "fund_struct = (\n",
    "\tw3.toChecksumAddress(fund_settings[\"sender\"]),\n",
    "\tfund_settings[\"fromInternalBalance\"],\n",
    "\tw3.toChecksumAddress(fund_settings[\"recipient\"]),\n",
    "\tfund_settings[\"toInternalBalance\"]\n",
    ")"
   ]
  },
  {
   "cell_type": "markdown",
   "id": "8bca95cd",
   "metadata": {},
   "source": [
    "### Final Formatting into Transaction"
   ]
  },
  {
   "cell_type": "code",
   "execution_count": null,
   "id": "e396d8c8",
   "metadata": {},
   "outputs": [],
   "source": [
    "token_limits = [int(Decimal(token_data[token][\"limit\"]) * 10 ** Decimal(token_data[token][\"decimals\"])) for token in token_addresses]\n",
    "checksum_tokens = [w3.toChecksumAddress(token) for token in token_addresses]\n",
    "\n",
    "batch_swap_function = contract_vault.functions.batchSwap(\t\n",
    "\tswap_kind,\n",
    "\tswaps_step_structs,\n",
    "\tchecksum_tokens,\n",
    "\tfund_struct,\n",
    "\ttoken_limits,\n",
    "\tdeadline\n",
    ")"
   ]
  },
  {
   "cell_type": "code",
   "execution_count": null,
   "id": "1e2a1763",
   "metadata": {},
   "outputs": [],
   "source": [
    "try:\n",
    "\tgas_estimate = batch_swap_function.estimate_gas()\n",
    "except:\n",
    "\t# Failed to estimate our gas price, 250,000 should be enough for us\n",
    "\tgas_estimate = 250000\n",
    "\tprint(\"Failed to estimate gas, attempting to send with\", gas_estimate, \"gas limit...\")\n",
    "\n",
    "data = batch_swap_function.build_transaction(\n",
    "\t{\n",
    "\t\t'chainId': 5, #Goerli chain id is 5\n",
    "\t    'gas': gas_estimate,\n",
    "\t\t# Rough max Gas fees to prevent transactions from ever getting stuck with low incentives\n",
    "        'gasPrice': 4*w3.eth.generate_gas_price(),\n",
    "\t    'nonce': w3.eth.get_transaction_count(public_address)\n",
    "\t}\n",
    ")"
   ]
  },
  {
   "cell_type": "code",
   "execution_count": null,
   "id": "5a2ac3fb",
   "metadata": {},
   "outputs": [],
   "source": [
    "signed_tx = w3.eth.account.sign_transaction(data, private_key)\n",
    "tx_hash = w3.eth.send_raw_transaction(signed_tx.rawTransaction).hex()\n",
    "print(\"Sending transaction...\")\n",
    "print(\"Transaction sent, tx_hash is \" + tx_hash)\n",
    "\n",
    "# If you get an error, wait 30 seconds for your previous transaction to go through then run\n",
    "# The previous cell then this one"
   ]
  },
  {
   "cell_type": "markdown",
   "id": "0f1e1876",
   "metadata": {},
   "source": [
    "# Atomic swap for arbitrage across exchanges\n",
    "\n",
    "Consider a scenario where an asset is priced lower in Uniswap than in Sushiswap. An arbitrageur will buy that asset on Uniswap and sell it on Sushiswap. However, performing this trade in two steps might open the arbitrageur to a fundamental risk - what if Sushiswap no longer accepts the trade at a higher price? In this case, the trade might return a loss. Performing the swaps under an atomic transaction with control logic can remove this risk. In this part of the lab, we will use a contract to perform swaps on Uniswap and Sushiswap atomically. \n",
    "\n",
    "We will use our ERC20 Lab Tokens, LabUSDC, and LabETH across the two exchanges.\n",
    "LUSD: 0x4966Bb6Cd9f3e042331b0798525b7970eFB0D94A\n",
    "LETH: 0xb85154E1948e52214A5F134172358Fb5010F6282\n",
    "\n",
    "With these, we will swap LUSD->LETH on Uniswap V3 and LETH->LUSD on Sushiswap within one transaction. We will use an advanced version of this technique in future labs to leverage arbitrage at minimal capital requirements.\n",
    "\n",
    "## Create a contract\n",
    "\n",
    "To perform an atomic transaction, recall from Lab2 (Flight and hotel booking) that you need to deploy a contract with a function that performs multiple transactions and then call that function in your transaction. For this lab, you need to create and deploy a solidity contract on remix which interacts with the Uniswap V3 Router and then Sushiswap's Router. By calling Uniswap and Sushiswap's contracts with another contract on-chain, the transaction will not be between your original address but between the contract address. This means that, for your contract to work, it will provide the LUSD tokens, so remember to approve your contract to use some LUSD from your address. Additionally, the contract will automatically approve Uniswap and Balancer upon creation.\n",
    "\n",
    "Interestingly enough, because Sushiswap is a clone of Uniswap V2, the router contract on chain is labeled as UniswapV2Router02, even though it does not communicate with any of Uniswap's actual pools.\n",
    "\n",
    "We provide an example solidity contract that does this swap. Please look at a working contract and ask for help if it needs clarification. Deploy this contract onto the blockchain and try it yourself."
   ]
  },
  {
   "cell_type": "markdown",
   "id": "fa4f60f8",
   "metadata": {},
   "source": [
    "```javascript\n",
    "// SPDX-License-Identifier: MIT\n",
    "\n",
    "pragma solidity >=0.8.0 <0.9.0;\n",
    "\n",
    "import \"@openzeppelin/contracts/utils/Strings.sol\";\n",
    "\n",
    "contract AtomicSwapper {\n",
    "\n",
    "    receive() external payable {}\n",
    "    fallback() external payable {}\n",
    "\n",
    "    event StringLog(string message);\n",
    "    event BytesLog(bytes message);\n",
    "\n",
    "    uint256 constant MAX_UINT = 2**256 - 1;\n",
    "\n",
    "    address constant SUSHISWAP_ROUTER = 0x1b02dA8Cb0d097eB8D57A175b88c7D8b47997506;\n",
    "    address constant UNISWAP_V3_ROUTER = 0xE592427A0AEce92De3Edee1F18E0157C05861564;\n",
    "\n",
    "    bytes32 constant UNISWAP_POOL = 0x48607651416a943bf5ac71c41be1420538e78f87000200000000000000000406;\n",
    "\n",
    "    address constant LUSD = 0x4966Bb6Cd9f3e042331b0798525b7970eFB0D94A;\n",
    "    address constant LETH = 0xb85154E1948e52214A5F134172358Fb5010F6282;\n",
    "\n",
    "    // For this example, we will use the uniswap v3 pool fee to 0.3%.\n",
    "    uint24 constant UNISWAP_FEE = 3000;\n",
    "\n",
    "    constructor() {\n",
    "        // Approve the SushiSwap V2 router for all our wBTC\n",
    "        IERC20(LETH).approve(SUSHISWAP_ROUTER, MAX_UINT);\n",
    "\n",
    "        // Approve the Uniswap V3 router for all our LUSD\n",
    "        IERC20(LUSD).approve(UNISWAP_V3_ROUTER, MAX_UINT);\n",
    "    }\n",
    "    \n",
    "    // Swapping LUSD for LETH on uniswap then swapping LETH back to LUSD\n",
    "    function doSwap(uint256 amountToSwap) public payable returns(bool){\n",
    "\n",
    "        // Remember to approve ahead of time\n",
    "\n",
    "        require(IERC20(LUSD).balanceOf(msg.sender) >= amountToSwap,\"Insuficient Allowance\");\n",
    "        require(IERC20(LUSD).transferFrom(msg.sender,address(this),amountToSwap),\"transfer Failed\");\n",
    "\n",
    "\n",
    "        UniswapRouter.ExactInputSingleParams memory uniparams = UniswapRouter.ExactInputSingleParams({\n",
    "            tokenIn: LUSD,\n",
    "            tokenOut: LETH,\n",
    "            fee: UNISWAP_FEE,\n",
    "            recipient: address(this),\n",
    "            deadline: block.timestamp,\n",
    "            amountIn: amountToSwap,\n",
    "            amountOutMinimum: 0,\n",
    "            sqrtPriceLimitX96: 0\n",
    "        });\n",
    "\n",
    "        uint256 leth_received = 0;\n",
    "\n",
    "        try UniswapRouter(UNISWAP_V3_ROUTER).exactInputSingle(uniparams) returns (uint256 amountOut){\n",
    "            leth_received = amountOut;\n",
    "            emit StringLog(string(abi.encodePacked(\"Success, got \", Strings.toString(amountOut), \" LETH\")));\n",
    "        }   catch Error (string memory _err) {\n",
    "            emit StringLog(_err);\n",
    "            return false;\n",
    "        }   catch (bytes memory _err) {\n",
    "            emit BytesLog(_err);\n",
    "            return false;\n",
    "        }\n",
    "\n",
    "        //------------------SUCESSFULLY SWAPED LUSD FOR LETH, NOW SWAPPING LETH TO LUSD------------------//\n",
    "\n",
    "        SushiSwapRouter sushiswapRouter = SushiSwapRouter(SUSHISWAP_ROUTER);\n",
    "\n",
    "        // Construct swap path\n",
    "        address[] memory path = new address[](2);\n",
    "        path[0] = LETH;\n",
    "        path[1] = LUSD;\n",
    "\n",
    "        uint256 lusd_recieved = 0;\n",
    "\n",
    "        // Swap the 0.01 wBTC we flash loaned into LUSD\n",
    "        try sushiswapRouter.swapExactTokensForTokens(\n",
    "            leth_received, // amountIn: amount of LETH received from uniswap\n",
    "            0, // amountOutMin: minimum acceptable LUSD received\n",
    "            path, // path: swap path\n",
    "            address(this), // to: this contract\n",
    "            block.timestamp // deadline: latest acceptable time to complete the swap by\n",
    "        ) returns (uint256[] memory amountOut) {\n",
    "            lusd_recieved = amountOut[amountOut.length - 1];\n",
    "            emit StringLog(string(abi.encodePacked(\"Success, got \", Strings.toString(lusd_recieved), \" LUSD\")));\n",
    "        }   catch Error (string memory _err) {\n",
    "            emit StringLog(_err);\n",
    "            revert();\n",
    "        }   catch (bytes memory _err) {\n",
    "            emit BytesLog(_err);\n",
    "            revert();\n",
    "        }\n",
    "        \n",
    "\n",
    "\n",
    "        return true;\n",
    "    }\n",
    "}\n",
    "\n",
    "\n",
    "interface IERC20 {\n",
    "    function balanceOf(address account) external view returns (uint256);\n",
    "\n",
    "    function transfer(address to, uint256 amount) external returns (bool);\n",
    "\n",
    "    function transferFrom(address from, address to, uint256 amount) external returns (bool);\n",
    "\n",
    "    function approve(address spender, uint256 amount) external returns (bool);\n",
    "}\n",
    "\n",
    "// Sushiswap\n",
    "interface SushiSwapRouter {\n",
    "    function swapExactTokensForTokens(\n",
    "        uint256 amountIn,\n",
    "        uint256 amountOutMin,\n",
    "        address[] calldata path,\n",
    "        address to,\n",
    "        uint256 deadline\n",
    "    ) external returns (uint256[] memory amounts);\n",
    "}\n",
    "\n",
    "interface UniswapRouter { \n",
    "    function exactInputSingle(ExactInputSingleParams calldata params) external payable returns (uint256 amountOut);\n",
    "\n",
    "    struct ExactInputSingleParams {\n",
    "        address tokenIn;\n",
    "        address tokenOut;\n",
    "        uint24 fee;\n",
    "        address recipient;\n",
    "        uint256 deadline;\n",
    "        uint256 amountIn;\n",
    "        uint256 amountOutMinimum;\n",
    "        uint160 sqrtPriceLimitX96;\n",
    "    }\n",
    "}\n",
    "\n"
   ]
  },
  {
   "cell_type": "markdown",
   "id": "a7980cbe",
   "metadata": {},
   "source": [
    "## Instructions for deployment:\n",
    "- Create a new project in Remix\n",
    "- Compile the code \n",
    "- Click on the deploy tab and select an Injected provider - Metamask on Goerli\n",
    "- Click on deploy - observe the transaction on Etherscan and fetch the contract address \n",
    "- Verify the contract on Etherscan - Follow the steps from the assignments\n",
    "- Go to the LUSD contract on Etherscan and sign an approval to the Atomic swap contract above, set the amount to 100LUSD (Type: 100000000000000000000)\n",
    "- Once verified, click on ``Contract``->``Write Contract`` and call the ``doSwap`` function with ``amountToSwap`` as 100 LUSD (Type: 100000000000000000000). (Note: set the Ethers value to 0 since we don't want to transfer any ether to this contract)\n",
    "- Check the transaction on Etherscan and observe the LUSD received at the end of the transaction\n",
    "\n",
    "(Optional)To test your understanding, change the contract to swap LETH->LUSD on Uniswap and then LUSD->LETH on Sushiswap. "
   ]
  }
 ],
 "metadata": {
  "kernelspec": {
   "display_name": "Python 3 (ipykernel)",
   "language": "python",
   "name": "python3"
  },
  "language_info": {
   "codemirror_mode": {
    "name": "ipython",
    "version": 3
   },
   "file_extension": ".py",
   "mimetype": "text/x-python",
   "name": "python",
   "nbconvert_exporter": "python",
   "pygments_lexer": "ipython3",
   "version": "3.9.15"
  }
 },
 "nbformat": 4,
 "nbformat_minor": 5
}
