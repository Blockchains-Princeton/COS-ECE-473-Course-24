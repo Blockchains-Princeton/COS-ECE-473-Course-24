{
 "cells": [
  {
   "cell_type": "markdown",
   "id": "110e01ea",
   "metadata": {},
   "source": [
    "# Objectives\n",
    "\n",
    "- Understand the fundamental interactions with overcollateralized borrow-lending protocols\n",
    "- Combining DeFi elements to perform a short on a token\n",
    "\n",
    "# Prerequisites \n",
    "\n",
    "- Metamask \n",
    "- Ensure a minimum of 0.01 SepoliaETH in your account\n",
    "\n",
    "\n",
    "# Interacting with Aave web-app\n",
    "\n",
    "Aave is one of the leading Borrow-lending platforms in DeFi. In this lab, we will use the Aave web app to borrow and lend some tokens. \n",
    "\n",
    "## Collateralized borrow \n",
    "\n",
    "We aim to borrow USDC tokens using ETH tokens in our wallet as collateral. \n",
    "To borrow any funds from Aave, you need to supply collateral first. The contract accepts a broad set of pre-approved tokens as collateral. (Why do the tokens have to be pre-approved?). We will supply our ETH as collateral. Follow to step's below to collateralize your position:\n",
    "\n",
    "- Go to Aave web-app at: [link](https://app.aave.com/) and link your wallet\n",
    "- Turn on the testnet mode by clicking on the Settings symbol next to your linked wallet\n",
    "- You should see ETH in the `Assets to supply` column and a range of tokens in the `Assets to Borrow` column\n",
    "- Note that the availability of assets to borrow will be set as zero since we don't have any collateral\n",
    "- To provide collateral, supply 0.01 ETH to the contract \n",
    "- You will receive aWETH token (Aave wrapped ETH); you can add it to your wallet through the prompt\n",
    "- The web app will show that the collateral is 40 USD; this does not correspond to the current price of ETH but rather a constant set in the testnet oracle. On the mainnet, the valuation of collateral is derived from a price-feed collateral\n",
    "- Aave V3 allows us to borrow funds upto 80% of the ETH collateral value \n",
    "- Use these funds to borrow 2 USDCs - set variable interest rate\n",
    "- Not only do you get 2 USDC tokens but also AAVE variableDebtUSDC tokens (You can take a look later on how these tokens are used)\n",
    "\n",
    "You can use the borrowed USDC as if they are your own tokens. You can exchange them on any AMM, transfer them to another account, or even supply them back to AAVE to earn interest. (Note that supply interest is always lower than borrow interest). Note that you aren't allowed to withdraw all of your ETH since you are required to repay your loan first\n",
    "\n",
    "- Repay your borrowed position. Note that you will be required to submit more than 2 USDC since the borrowed USDC has accrued interest. For the sake of brevity of the lab, repay with 1 USDC. \n",
    "- You will now to able to withdraw almost all of your ETH. Since we still have a position open, we will only withdraw 0.001 ETH. Observe that the transaction consumes AWETH for WETH\n",
    "\n",
    "## Performing a short using Aave\n",
    "\n",
    "Let's assume that you, as a trader, believe that USDC will lose its peg from USD 1 and go down to USD 0.9. Under this belief, going short on USDC will make the trader profit. \n",
    "\n",
    "Borrow-lending platforms can be used to perform a short on any token that we can borrow. In this part, we will be shorting 100 USDC. Please follow the steps below to perform a short.\n",
    "\n",
    "Note your LUSD balance at the start of the experiment \n",
    "- Now we use 1 USDC from the borrowed amount\n",
    "- Trade the 1 USDC for LUSD at the price of approximately 1 USDC/LUSD on Uniswap [link](https://app.uniswap.org/#/swap) (Use the addresses of USDC (0x94a9D9AC8a22534E3FaCa9F4e7F2E2cf85d5E4C8) and LUSD (0x62d92D8F8bad22F5f4d69dB24698F150cD637675))\n",
    "\n",
    "The TA will now simulate the price dip of USDC by posting a large swap on Uniswap.\n",
    "\n",
    "- Trade LUSD to get back the borrowed USDC. Since the price of USDC has dipped in reference to LUSD, the difference between LUSD consumed in this trade and the LUSD received in the previous trade is the profit \n",
    "- Note the new LUSD balance - the increase in balance is roughly the profit from the short\n",
    "- Repay the borrowed USDC on Aave to close the short"
   ]
  }
 ],
 "metadata": {
  "kernelspec": {
   "display_name": "Python 3 (ipykernel)",
   "language": "python",
   "name": "python3"
  },
  "language_info": {
   "codemirror_mode": {
    "name": "ipython",
    "version": 3
   },
   "file_extension": ".py",
   "mimetype": "text/x-python",
   "name": "python",
   "nbconvert_exporter": "python",
   "pygments_lexer": "ipython3",
   "version": "3.9.15"
  }
 },
 "nbformat": 4,
 "nbformat_minor": 5
}
