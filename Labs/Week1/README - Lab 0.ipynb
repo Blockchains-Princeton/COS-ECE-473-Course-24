{
 "cells": [
  {
   "cell_type": "markdown",
   "id": "67ae21a5",
   "metadata": {},
   "source": [
    "# Objectives\n",
    "\n",
    "- Learn how to browse Web 3 \n",
    "- Walkthrough prominent dApps, understand services offered\n",
    "- Preview of labs in this course"
   ]
  },
  {
   "cell_type": "markdown",
   "id": "b475c8af",
   "metadata": {},
   "source": [
    "# Browsing Web3\n",
    "\n",
    "Browsing is the most basic functionality one is familiar with on Web 2. It allows us to explore and interact with websites and follow links. Similarly, we look at ways to browse Web 3.\n",
    "\n",
    "\n",
    "## [Etherscan](https://etherscan.io/)\n",
    "- Etherscan allows us to to browse at the most granular level. We can see each transaction submitted and the entities it interacts with and all tokens and operations involved.\n",
    "\n",
    "## [MEV-explore](https://explore.flashbots.net/)\n",
    "- MEV is a measure of how much value can be extracted by manipulating transaction order or by inserting/removing transactions, while playing by the protocol rules. This has been identified as a strong \"centralizing force\" in DeFi. MEV-Explore allows us to measure that and other related statistics on the Ethereum blockchain.\n",
    "\n",
    "## [Defillama](https://defillama.com/)\n",
    "- Defillama is one of many websites that has live dashboards displaying collated data on token prices, value locked and various application specific measures. \n",
    "\n",
    "## [Dune](https://dune.com/home)\n",
    "- Because a blockchain is public, sites such as defillama can be created by anyone without privileged access to data. Dune is one such website that allows any user to create a customised dashboard to display collated data."
   ]
  },
  {
   "cell_type": "markdown",
   "id": "bba52d6e",
   "metadata": {},
   "source": [
    "# Apps on Web3\n",
    "\n",
    "Let us now walk through prominent applications whose functions constitute the \"elements\" of decentralized finance.\n",
    "## Uniswap\n",
    "\n",
    "[Uniswap](https://app.uniswap.org/#/swap) is a decentralized exchange. It is primarily used to swap tokens by traders, and to earn trading fees by liquidity providers. Many liquidity providers pool their assets together and these are used by traders to buy and sell tokens.\n",
    "\n",
    "- How is Uniswap different from a traditional exchange like NYSE ?\n"
   ]
  },
  {
   "cell_type": "markdown",
   "id": "a74a87d0",
   "metadata": {},
   "source": [
    "## OpenSea\n",
    "\n",
    "[OpenSea](https://opensea.io/) is an NFT exchange.\n",
    "\n",
    "## Aave\n",
    "\n",
    "[Aave](https://app.aave.com/) is a borrow-lending protocol.\n",
    "\n",
    "- What are the actions one can perform on Aave?\n",
    "- What tokens can be borrowed? What are the requirements for borrowing?\n",
    "\n",
    "## Chainlink\n",
    "\n",
    "[Chainlink](https://data.chain.link/) is an oracle service that posts real-time price data on chain.\n",
    "\n",
    "- What data feeds are available? When are they updated?\n",
    "- Where might these be useful?\n",
    "\n",
    "## dYdX\n",
    "[dYdX](https://dydx.exchange/) is a decentralized exchange (DEX) platform that offers perpetual trading options for over 35 popular cryptocurrencies including Bitcoin (BTC), Ether (ETH), Dogecoin (DOGE) and Cardano (ADA).\n",
    "\n",
    "\n",
    "## Snapshot\n",
    "\n",
    "[Snapshot](https://snapshot.org/#/) is a blockchain used to track and vote on governance proposals for various protocols.\n",
    "\n",
    "- How does a proposal look like? \n",
    "- What does a proposal typically decide? Is it truly decentralized?"
   ]
  },
  {
   "cell_type": "markdown",
   "id": "e5d0c086",
   "metadata": {},
   "source": [
    "# Lab preview\n",
    "\n",
    "- *Week 1* : Setup wallet, get tokens for later use in labs. Perform basic actions with wallets and track transactions.\n",
    "- *Week 2* : Interact with smart contracts using web3.py library. Use that to perform atomic transactions - hotel and train booking problem.\n",
    "- *Week 3* : Interact with a DEX as a trader and as LP. Perform atomic swaps across different DEXes and pools.\n",
    "- *Week 4* : Interact with Flashbots - a service used to avoid getting MEV'ed. Evaluate what being a liquidity provider means.\n",
    "- *Week 5* : Interact with on-chain oracles and see how they might be manipulated.\n",
    "- *Week 6* : Creating a borrow/lending position, checking for liquidations and performing flashloans to do arbitrage.\n",
    "- *Week 7* : Interacting with cross-chain bridges.\n",
    "- *Week 8* : Get stablecoins by posting collateral, getting exposure to offchain assets via synthetics.\n",
    "- *Week 9* : Minting and trading NFTs.\n",
    "- *Week 10* : Interacting with Governance proposals and liquid staking protocols."
   ]
  },
  {
   "cell_type": "code",
   "execution_count": null,
   "id": "9097ef90",
   "metadata": {},
   "outputs": [],
   "source": []
  }
 ],
 "metadata": {
  "kernelspec": {
   "display_name": "Python 3 (ipykernel)",
   "language": "python",
   "name": "python3"
  },
  "language_info": {
   "codemirror_mode": {
    "name": "ipython",
    "version": 3
   },
   "file_extension": ".py",
   "mimetype": "text/x-python",
   "name": "python",
   "nbconvert_exporter": "python",
   "pygments_lexer": "ipython3",
   "version": "3.9.15"
  }
 },
 "nbformat": 4,
 "nbformat_minor": 5
}
